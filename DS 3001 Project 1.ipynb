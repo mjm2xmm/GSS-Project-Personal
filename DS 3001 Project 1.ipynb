{
  "cells": [
    {
      "cell_type": "markdown",
      "id": "770dd410",
      "metadata": {
        "id": "770dd410"
      },
      "source": [
        "# Analysis of Gender Wage Gap - Michelle Kim, Michael McGeachy, Millie Pandya, Cara Seely"
      ]
    },
    {
      "cell_type": "markdown",
      "id": "7f5d79e5",
      "metadata": {
        "id": "7f5d79e5"
      },
      "source": [
        "# Summary\n",
        "\n",
        "For this project, our question of interest was *what is the influence of age, education, and marital status upon the gender wage gap, as measured by income*? This has been an area of increasing interest, and understanding its influencing factors is important for rectifying this disparity going forward. We sourced dynamic data from the General Social Survey, and cleaned the corresponding data columns to facilitate our analysis, a process documented later in this paper. Final visualizations include a series of bar graphs and kernel density plots, coupled with statistical comparisons between the variables of interest and a baseline figure we computed to begin our analysis. The variables and comparison categories were thoughtfully chosen to best accomodate a multigenerational analysis, showing the change in wage gap over time. To ensure thoroughness, each variable was broken down into each of its constituent categories to see where the wage gap was the most impactful. The age component demonstrated a general trend that younger professionals exhibited less of a gap than older age cohorts, at only 9% compared to a 19.8% baseline. Those that were not married or divorced also had a smaller gap when compared to their married or widowed counterparts. Finally, looking at education we found the largest gap was found among those with the lowest levels of education, a trend that steadily decreased as the level of education attained increased. Overall, those who are widowed, very old, or received the lowest education were found to suffer the most from the gender wage gap, with it being likely there is some overlap between the very old and widowed findings given the tendency for women to live longer than men. While there needs to be further analysis for proper causative inference questions, our findings might suggest that  attempts in recent years to address and solve the gender wage gap have been effective, especially amongst those in jobs requiring higher education and/or specialization."
      ]
    },
    {
      "cell_type": "markdown",
      "id": "a165a4b3",
      "metadata": {
        "id": "a165a4b3"
      },
      "source": [
        "# Data\n",
        "\n",
        "The following section explains the data cleaning choices that were made to facilitate our analysis. First pertains to the gender category, where we chose to only include results that fell into the male/female gender dichotomy. The GSS dataset initially included a broader spectrum of genders. Given that our research question focuses on the gender wage gap, which historically has only investigated the wage difference between men and women, it was important to narrow down the data to responses that only included these responses to ensure continuity. Limiting the scope of the analysis with less data and genders was deemed necessary for specificity and accuracy.\n",
        "\n",
        "For the age variable, we made the choice to eventually sort the original datasets division of ages into a series of age ranges, rather than singular specific values. The actual age of any single participant wasn't relevant to our analysis, and we felt grouping ages into generations would better serve our wage gap question. The 'generational' age groups allowed us to make better generalizations about younger vs older survey participants, and made it easier to draw conclusions about how the wage gap has evolved over time.\n",
        "\n",
        "Regarding education, we chose to remove the responses that did not specify what level of education was attained. Coding these nonresponses as a separate variable was not considered appropriate given our lack of information, and removing them was needed to properly visualize the data later. We removed these empty entries to ensure that the analysis contains complete data.\n",
        "\n",
        "To clean the marital status data, the team consolidated the responses for ‘not married’ and ‘never married’ into one cohesive label. This was done to accommodate for the chance different survey years had different response options. The rest of the existing categories for marital status were maintained, as they were appropriate for the analysis that followed.\n",
        "\n",
        "Following the cleaning process, the data is better structured for analysis, with clearer categories and more consistent entries. In summary, the data cleaning process for this analysis involved thoughtful decisions on how to handle various variables, with a focus on aligning the dataset with the research question while addressing inconsistencies and gaps in the data. Each decision, from narrowing down the gender categories to consolidating marital status responses, was made with the intent to enhance the clarity and relevance of the data for exploring the gender wage gap."
      ]
    },
    {
      "cell_type": "code",
      "execution_count": null,
      "id": "c669a188",
      "metadata": {
        "id": "c669a188",
        "outputId": "50a1bbe7-2e8c-48b4-9df5-fc1720ed51f0"
      },
      "outputs": [
        {
          "name": "stdout",
          "output_type": "stream",
          "text": [
            "Cloning into 'project_gss'...\n",
            "remote: Enumerating objects: 23, done.\u001b[K\n",
            "remote: Counting objects: 100% (8/8), done.\u001b[K\n",
            "remote: Compressing objects: 100% (7/7), done.\u001b[K\n",
            "remote: Total 23 (delta 6), reused 1 (delta 1), pack-reused 15\u001b[K\n",
            "Receiving objects: 100% (23/23), 23.94 MiB | 26.44 MiB/s, done.\n",
            "Resolving deltas: 100% (6/6), done.\n"
          ]
        }
      ],
      "source": [
        "import pandas as pd\n",
        "import numpy as np\n",
        "import seaborn as sns\n",
        "import matplotlib.pyplot as plt\n",
        "! git clone https://github.com/DS3001/project_gss"
      ]
    },
    {
      "cell_type": "code",
      "execution_count": null,
      "id": "272f5f64",
      "metadata": {
        "id": "272f5f64",
        "outputId": "d4c96efe-c3a9-42c8-921b-3425f7cf51b8"
      },
      "outputs": [
        {
          "name": "stdout",
          "output_type": "stream",
          "text": [
            "        age     sex   race                    degree     health         happy  \\\n",
            "0      48.0    male  white               high school       poor           NaN   \n",
            "1      25.0    male  white                bachelor's        NaN  pretty happy   \n",
            "2      42.0    male  white                bachelor's        NaN  pretty happy   \n",
            "3      24.0    male  white               high school       good           NaN   \n",
            "4      24.0  female  white                bachelor's  excellent    very happy   \n",
            "...     ...     ...    ...                       ...        ...           ...   \n",
            "24125  22.0  female  white               high school       good  pretty happy   \n",
            "24126  29.0  female  white                  graduate       good  pretty happy   \n",
            "24127  32.0    male  white  associate/junior college       good  pretty happy   \n",
            "24128  49.0  female  white                  graduate       good    very happy   \n",
            "24129  50.0    male  white                  graduate       fair  pretty happy   \n",
            "\n",
            "             marital                             martype  agewed  hrs2  \\\n",
            "0            married                                 NaN    25.0   NaN   \n",
            "1      never married                                 NaN     NaN   NaN   \n",
            "2           divorced                                 NaN     NaN   NaN   \n",
            "3      never married                                 NaN     NaN   NaN   \n",
            "4            married                                 NaN     NaN   NaN   \n",
            "...              ...                                 ...     ...   ...   \n",
            "24125  never married                                 NaN     NaN   NaN   \n",
            "24126        married                                 NaN     NaN   NaN   \n",
            "24127  never married                                 NaN     NaN   NaN   \n",
            "24128        married  marriage between a man and a woman     NaN   NaN   \n",
            "24129        married  marriage between a man and a woman     NaN   NaN   \n",
            "\n",
            "                                                 indus10  agekdbrn  childs  \\\n",
            "0      Production, Transportation, and Material Movin...       NaN     2.0   \n",
            "1      Production, Transportation, and Material Movin...       NaN     0.0   \n",
            "2      Production, Transportation, and Material Movin...       NaN     0.0   \n",
            "3      Production, Transportation, and Material Movin...       NaN     0.0   \n",
            "4      Production, Transportation, and Material Movin...       NaN     0.0   \n",
            "...                                                  ...       ...     ...   \n",
            "24125  Production, Transportation, and Material Movin...       NaN     0.0   \n",
            "24126  Production, Transportation, and Material Movin...      25.0     2.0   \n",
            "24127  Production, Transportation, and Material Movin...      28.0     1.0   \n",
            "24128  Production, Transportation, and Material Movin...       NaN     0.0   \n",
            "24129  Production, Transportation, and Material Movin...      42.0     1.0   \n",
            "\n",
            "               class                income16  dateintv  \n",
            "0                NaN  unemployed/zero income     424.0  \n",
            "1       middle class  unemployed/zero income     620.0  \n",
            "2      working class  unemployed/zero income     418.0  \n",
            "3                NaN  unemployed/zero income     418.0  \n",
            "4       middle class  unemployed/zero income     804.0  \n",
            "...              ...                     ...       ...  \n",
            "24125    lower class      $25,000 to $29,999     625.0  \n",
            "24126  working class      $60,000 to $74,999    1117.0  \n",
            "24127   middle class    $130,000 to $149,999     830.0  \n",
            "24128   middle class    $150,000 to $169,999     828.0  \n",
            "24129   middle class     $90,000 to $109,999    1104.0  \n",
            "\n",
            "[24130 rows x 16 columns]\n"
          ]
        }
      ],
      "source": [
        "df = pd.read_csv('/Users/michellekim/Downloads/cleanedSECOND.csv', low_memory=False)\n",
        "print(df)"
      ]
    },
    {
      "cell_type": "markdown",
      "id": "97aef500",
      "metadata": {
        "id": "97aef500"
      },
      "source": [
        "# Isolating out the variables we want to analyze, and checking the potential responses for each of them:"
      ]
    },
    {
      "cell_type": "code",
      "execution_count": null,
      "id": "31bf6911",
      "metadata": {
        "id": "31bf6911",
        "outputId": "833d99d1-02ad-48d0-d5b3-a69b8eb5c7aa"
      },
      "outputs": [
        {
          "name": "stdout",
          "output_type": "stream",
          "text": [
            "['male', 'female', nan]\n"
          ]
        }
      ],
      "source": [
        "# We can first list all of the possible responses given for 'sex':\n",
        "sex_responses = []\n",
        "for response in df['sex']:\n",
        "    if response not in sex_responses:\n",
        "        sex_responses.append(response)\n",
        "print(sex_responses)"
      ]
    },
    {
      "cell_type": "code",
      "execution_count": null,
      "id": "82f0122a",
      "metadata": {
        "id": "82f0122a",
        "outputId": "a03b8c49-9cfd-4a0a-abad-b98a4d8a8509"
      },
      "outputs": [
        {
          "name": "stdout",
          "output_type": "stream",
          "text": [
            "['married', 'never married', 'divorced', 'not married', 'widowed']\n"
          ]
        }
      ],
      "source": [
        "# We can repeat this for marital status:\n",
        "marriage_responses = []\n",
        "for response in df['marital']:\n",
        "    if response not in marriage_responses:\n",
        "        marriage_responses.append(response)\n",
        "print(marriage_responses)"
      ]
    },
    {
      "cell_type": "code",
      "execution_count": null,
      "id": "a654c25a",
      "metadata": {
        "id": "a654c25a",
        "outputId": "9c04636f-9c3a-478b-8969-0234306caff8"
      },
      "outputs": [
        {
          "name": "stdout",
          "output_type": "stream",
          "text": [
            "['high school', \"bachelor's\", 'associate/junior college', 'graduate', 'less than high school', nan]\n",
            "['unemployed/zero income', '$170,000 or over', '$50,000 to $59,999', '$75,000 to $89,999', '$60,000 to $74,999', '$30,000 to $34,999', 'under $1,000', '$8,000 to $9,999', '$12,500 to $14,999', '$40,000 to $49,999', '$5,000 to $5,999', '$35,000 to $39,999', '$25,000 to $29,999', '$90,000 to $109,999', '$22,500 to $24,999', '$20,000 to $22,499', '$110,000 to $129,999', '$150,000 to $169,999', '$130,000 to $149,999', '$1,000 to $2,999', '$17,500 to $19,999', '$6,000 to $6,999', '$10,000 to $12,499', '$15,000 to $17,499', '$7,000 to $7,999', '$3,000 to $3,999', '$4,000 to $4,999']\n"
          ]
        }
      ],
      "source": [
        "# As well as education and income:\n",
        "education_responses = []\n",
        "for response in df['degree']:\n",
        "    if response not in education_responses:\n",
        "        education_responses.append(response)\n",
        "print(education_responses)\n",
        "\n",
        "income_responses = []\n",
        "for response in df['income16']:\n",
        "    if response not in income_responses:\n",
        "        income_responses.append(response)\n",
        "print(income_responses)\n",
        "# This information can also be found in the codebook,\n",
        "# but it is important to check that the data post-cleaning is what we expect."
      ]
    },
    {
      "cell_type": "markdown",
      "id": "fa6aa249",
      "metadata": {
        "id": "fa6aa249"
      },
      "source": [
        "# Replacing the non-numerical values for income with numerical values:"
      ]
    },
    {
      "cell_type": "code",
      "execution_count": null,
      "id": "dc372704",
      "metadata": {
        "id": "dc372704",
        "outputId": "36cc6f0d-6ca9-4034-d2f6-8e2d955a137b"
      },
      "outputs": [
        {
          "name": "stdout",
          "output_type": "stream",
          "text": [
            "[0, 500, 2000, 3500, 4500, 5500, 6500, 7500, 9000, 11250, 13750, 16250, 18750, 21250, 23750, 27500, 32500, 37500, 45000, 55000, 67500, 82500, 100000, 120000, 140000, 160000, 170000]\n"
          ]
        }
      ],
      "source": [
        "# Replacing the string based income values with numbers to make plotting and analysis easier:\n",
        "# (For each income range given, we are converting it to its mean value)\n",
        "# This has potential issues; for example, the \"$170,000 or over\" bucket is being lumped into an income\n",
        "# of $170,000; this will make mean values of the income quantitatively inaccurate, but comparisons for the\n",
        "# sake of the gender pay gap should still hold.\n",
        "\n",
        "df = df.replace('unemployed/zero income', 0)\n",
        "df = df.replace('$170,000 or over', 170000)\n",
        "df = df.replace('$50,000 to $59,999', 55000)\n",
        "df = df.replace('$75,000 to $89,999', 82500)\n",
        "df = df.replace('$60,000 to $74,999', 67500)\n",
        "df = df.replace('$30,000 to $34,999', 32500)\n",
        "df = df.replace('under $1,000', 500)\n",
        "df = df.replace('$8,000 to $9,999', 9000)\n",
        "df = df.replace('$12,500 to $14,999', 13750)\n",
        "df = df.replace('$40,000 to $49,999', 45000)\n",
        "df = df.replace('$5,000 to $5,999', 5500)\n",
        "df = df.replace('$35,000 to $39,999', 37500)\n",
        "df = df.replace('$25,000 to $29,999', 27500)\n",
        "df = df.replace('$90,000 to $109,999', 100000)\n",
        "df = df.replace('$22,500 to $24,999', 23750)\n",
        "df = df.replace('$20,000 to $22,499', 21250)\n",
        "df = df.replace('$110,000 to $129,999', 120000)\n",
        "df = df.replace('$150,000 to $169,999', 160000)\n",
        "df = df.replace('$130,000 to $149,999', 140000)\n",
        "df = df.replace('$1,000 to $2,999', 2000)\n",
        "df = df.replace('$17,500 to $19,999', 18750)\n",
        "df = df.replace('$6,000 to $6,999', 6500)\n",
        "df = df.replace('$10,000 to $12,499', 11250)\n",
        "df = df.replace('$15,000 to $17,499', 16250)\n",
        "df = df.replace('$7,000 to $7,999', 7500)\n",
        "df = df.replace('$3,000 to $3,999', 3500)\n",
        "df = df.replace('$4,000 to $4,999', 4500)\n",
        "\n",
        "# To verify the data cleaning above works\n",
        "print(sorted(df['income16'].unique()))"
      ]
    },
    {
      "cell_type": "markdown",
      "id": "c4f98a1b",
      "metadata": {
        "id": "c4f98a1b"
      },
      "source": [
        "# Making a plot and some preliminary analysis:"
      ]
    },
    {
      "cell_type": "code",
      "execution_count": null,
      "id": "9c11d38a",
      "metadata": {
        "id": "9c11d38a",
        "outputId": "994252ac-ba9f-4895-eacc-ba0857f0c104"
      },
      "outputs": [
        {
          "data": {
            "text/plain": [
              "<AxesSubplot:xlabel='income16', ylabel='Density'>"
            ]
          },
          "execution_count": 12,
          "metadata": {},
          "output_type": "execute_result"
        },
        {
          "data": {
            "image/png": "[encoded data removed]",
            "text/plain": [
              "<Figure size 432x288 with 1 Axes>"
            ]
          },
          "metadata": {
            "needs_background": "light"
          },
          "output_type": "display_data"
        }
      ],
      "source": [
        "# First, we can see if the gender wage gap is immediately visible in a histogram:\n",
        "sns.kdeplot(data=df,x='income16',hue='sex')"
      ]
    },
    {
      "cell_type": "markdown",
      "id": "f1a7e3b0",
      "metadata": {
        "id": "f1a7e3b0"
      },
      "source": [
        "It does appear that in the lower income percentile, the proportion of females is greater; we can also quantify this by looking at some statistics regarding this data:"
      ]
    },
    {
      "cell_type": "code",
      "execution_count": null,
      "id": "b571efdb",
      "metadata": {
        "id": "b571efdb",
        "outputId": "9650d95d-39de-4757-dd8e-f350a044c6a8"
      },
      "outputs": [
        {
          "data": {
            "text/html": [
              "<div>\n",
              "<style scoped>\n",
              "    .dataframe tbody tr th:only-of-type {\n",
              "        vertical-align: middle;\n",
              "    }\n",
              "\n",
              "    .dataframe tbody tr th {\n",
              "        vertical-align: top;\n",
              "    }\n",
              "\n",
              "    .dataframe thead tr th {\n",
              "        text-align: left;\n",
              "    }\n",
              "\n",
              "    .dataframe thead tr:last-of-type th {\n",
              "        text-align: right;\n",
              "    }\n",
              "</style>\n",
              "<table border=\"1\" class=\"dataframe\">\n",
              "  <thead>\n",
              "    <tr>\n",
              "      <th></th>\n",
              "      <th colspan=\"8\" halign=\"left\">income16</th>\n",
              "    </tr>\n",
              "    <tr>\n",
              "      <th></th>\n",
              "      <th>count</th>\n",
              "      <th>mean</th>\n",
              "      <th>std</th>\n",
              "      <th>min</th>\n",
              "      <th>25%</th>\n",
              "      <th>50%</th>\n",
              "      <th>75%</th>\n",
              "      <th>max</th>\n",
              "    </tr>\n",
              "    <tr>\n",
              "      <th>sex</th>\n",
              "      <th></th>\n",
              "      <th></th>\n",
              "      <th></th>\n",
              "      <th></th>\n",
              "      <th></th>\n",
              "      <th></th>\n",
              "      <th></th>\n",
              "      <th></th>\n",
              "    </tr>\n",
              "  </thead>\n",
              "  <tbody>\n",
              "    <tr>\n",
              "      <th>female</th>\n",
              "      <td>13234.0</td>\n",
              "      <td>30262.959045</td>\n",
              "      <td>46898.119324</td>\n",
              "      <td>0.0</td>\n",
              "      <td>0.0</td>\n",
              "      <td>0.0</td>\n",
              "      <td>45000.0</td>\n",
              "      <td>170000.0</td>\n",
              "    </tr>\n",
              "    <tr>\n",
              "      <th>male</th>\n",
              "      <td>10784.0</td>\n",
              "      <td>36264.396328</td>\n",
              "      <td>52152.345673</td>\n",
              "      <td>0.0</td>\n",
              "      <td>0.0</td>\n",
              "      <td>0.0</td>\n",
              "      <td>67500.0</td>\n",
              "      <td>170000.0</td>\n",
              "    </tr>\n",
              "  </tbody>\n",
              "</table>\n",
              "</div>"
            ],
            "text/plain": [
              "       income16                                                              \n",
              "          count          mean           std  min  25%  50%      75%       max\n",
              "sex                                                                          \n",
              "female  13234.0  30262.959045  46898.119324  0.0  0.0  0.0  45000.0  170000.0\n",
              "male    10784.0  36264.396328  52152.345673  0.0  0.0  0.0  67500.0  170000.0"
            ]
          },
          "execution_count": 13,
          "metadata": {},
          "output_type": "execute_result"
        }
      ],
      "source": [
        "df.loc[:,['sex','income16']].groupby('sex').describe()"
      ]
    },
    {
      "cell_type": "markdown",
      "id": "82fd16a3",
      "metadata": {
        "id": "82fd16a3"
      },
      "source": [
        "We see that the mean income for males is higher, by about 19.8%, which will serve as our baseline estimate of the gender pay gap that we compare to with further analysis."
      ]
    },
    {
      "cell_type": "markdown",
      "id": "9abc9aee",
      "metadata": {
        "id": "9abc9aee"
      },
      "source": [
        "# The impact of age on the gender wage gap:"
      ]
    },
    {
      "cell_type": "markdown",
      "id": "9521538f",
      "metadata": {
        "id": "9521538f"
      },
      "source": [
        "To begin, we can see if any visual trends appear when creating a scatterplot of income levels and age, with hue determined by sex:"
      ]
    },
    {
      "cell_type": "code",
      "execution_count": null,
      "id": "0317534c",
      "metadata": {
        "id": "0317534c",
        "outputId": "5ba57cd9-d71e-4747-94f6-47596acba10b"
      },
      "outputs": [
        {
          "data": {
            "text/plain": [
              "<AxesSubplot:xlabel='income16', ylabel='age'>"
            ]
          },
          "execution_count": 14,
          "metadata": {},
          "output_type": "execute_result"
        },
        {
          "data": {
            "image/png": "[encoded data removed]",
            "text/plain": [
              "<Figure size 432x288 with 1 Axes>"
            ]
          },
          "metadata": {
            "needs_background": "light"
          },
          "output_type": "display_data"
        }
      ],
      "source": [
        "sns.scatterplot(data=df,x='income16',y='age',hue='sex')"
      ]
    },
    {
      "cell_type": "markdown",
      "id": "24b62e3c",
      "metadata": {
        "id": "24b62e3c"
      },
      "source": [
        "This is not particularly illuminating, so we can first try separating age into four broad groups: \"young\" (below 35 years old), \"middle-aged\" (between 35 and 50 years old), \"older\" (between 50 and 70 years old), and \"very old\" (above 70 years old). Then, we can separate our earlier kernel density plot into four separate sets of statistics regarding the differences in income for the genders (this can also be done with a more finely-grained set of age groups):"
      ]
    },
    {
      "cell_type": "code",
      "execution_count": null,
      "id": "472ad73a",
      "metadata": {
        "id": "472ad73a"
      },
      "outputs": [],
      "source": [
        "df_young = df.loc[(df['age'] < 35)] # This is the dataframe we'll use for the \"young\" age category\n",
        "# If the age doesn't fit with our \"young\" definition, we delete that row from this new dataframe."
      ]
    },
    {
      "cell_type": "code",
      "execution_count": null,
      "id": "9ea68d91",
      "metadata": {
        "id": "9ea68d91",
        "outputId": "45c5b7a3-3971-4a7a-8688-457994e2074b"
      },
      "outputs": [
        {
          "data": {
            "text/plain": [
              "<AxesSubplot:xlabel='income16', ylabel='Density'>"
            ]
          },
          "execution_count": 16,
          "metadata": {},
          "output_type": "execute_result"
        },
        {
          "data": {
            "image/png": "[encoded data removed]",
            "text/plain": [
              "<Figure size 432x288 with 1 Axes>"
            ]
          },
          "metadata": {
            "needs_background": "light"
          },
          "output_type": "display_data"
        }
      ],
      "source": [
        "sns.kdeplot(data=df_young,x='income16',hue='sex')"
      ]
    },
    {
      "cell_type": "code",
      "execution_count": null,
      "id": "5fc67399",
      "metadata": {
        "id": "5fc67399",
        "outputId": "58c7e4ba-8553-4c92-f060-e157de7f4214"
      },
      "outputs": [
        {
          "data": {
            "text/html": [
              "<div>\n",
              "<style scoped>\n",
              "    .dataframe tbody tr th:only-of-type {\n",
              "        vertical-align: middle;\n",
              "    }\n",
              "\n",
              "    .dataframe tbody tr th {\n",
              "        vertical-align: top;\n",
              "    }\n",
              "\n",
              "    .dataframe thead tr th {\n",
              "        text-align: left;\n",
              "    }\n",
              "\n",
              "    .dataframe thead tr:last-of-type th {\n",
              "        text-align: right;\n",
              "    }\n",
              "</style>\n",
              "<table border=\"1\" class=\"dataframe\">\n",
              "  <thead>\n",
              "    <tr>\n",
              "      <th></th>\n",
              "      <th colspan=\"8\" halign=\"left\">income16</th>\n",
              "    </tr>\n",
              "    <tr>\n",
              "      <th></th>\n",
              "      <th>count</th>\n",
              "      <th>mean</th>\n",
              "      <th>std</th>\n",
              "      <th>min</th>\n",
              "      <th>25%</th>\n",
              "      <th>50%</th>\n",
              "      <th>75%</th>\n",
              "      <th>max</th>\n",
              "    </tr>\n",
              "    <tr>\n",
              "      <th>sex</th>\n",
              "      <th></th>\n",
              "      <th></th>\n",
              "      <th></th>\n",
              "      <th></th>\n",
              "      <th></th>\n",
              "      <th></th>\n",
              "      <th></th>\n",
              "      <th></th>\n",
              "    </tr>\n",
              "  </thead>\n",
              "  <tbody>\n",
              "    <tr>\n",
              "      <th>female</th>\n",
              "      <td>3299.0</td>\n",
              "      <td>24419.217945</td>\n",
              "      <td>40653.268153</td>\n",
              "      <td>0.0</td>\n",
              "      <td>0.0</td>\n",
              "      <td>0.0</td>\n",
              "      <td>37500.0</td>\n",
              "      <td>170000.0</td>\n",
              "    </tr>\n",
              "    <tr>\n",
              "      <th>male</th>\n",
              "      <td>2686.0</td>\n",
              "      <td>26610.387193</td>\n",
              "      <td>42799.717712</td>\n",
              "      <td>0.0</td>\n",
              "      <td>0.0</td>\n",
              "      <td>0.0</td>\n",
              "      <td>45000.0</td>\n",
              "      <td>170000.0</td>\n",
              "    </tr>\n",
              "  </tbody>\n",
              "</table>\n",
              "</div>"
            ],
            "text/plain": [
              "       income16                                                              \n",
              "          count          mean           std  min  25%  50%      75%       max\n",
              "sex                                                                          \n",
              "female   3299.0  24419.217945  40653.268153  0.0  0.0  0.0  37500.0  170000.0\n",
              "male     2686.0  26610.387193  42799.717712  0.0  0.0  0.0  45000.0  170000.0"
            ]
          },
          "execution_count": 17,
          "metadata": {},
          "output_type": "execute_result"
        }
      ],
      "source": [
        "df_young.loc[:,['sex','income16']].groupby('sex').describe()"
      ]
    },
    {
      "cell_type": "markdown",
      "id": "c44ca7b3",
      "metadata": {
        "id": "c44ca7b3"
      },
      "source": [
        "Here, we see that the income for males is only about 9.0% higher, lower than our baseline of 19.8% overall from earlier. We can hypothesize here that the gender wage gap is higher amongst older adults, and may have decreased over time due to increased efforts to educate the public and/or address the issue. We can test this with further analysis."
      ]
    },
    {
      "cell_type": "code",
      "execution_count": null,
      "id": "56a7672f",
      "metadata": {
        "id": "56a7672f",
        "outputId": "0f8a6153-6e75-4efc-a5af-ed69908e91c5"
      },
      "outputs": [
        {
          "data": {
            "text/html": [
              "<div>\n",
              "<style scoped>\n",
              "    .dataframe tbody tr th:only-of-type {\n",
              "        vertical-align: middle;\n",
              "    }\n",
              "\n",
              "    .dataframe tbody tr th {\n",
              "        vertical-align: top;\n",
              "    }\n",
              "\n",
              "    .dataframe thead tr th {\n",
              "        text-align: left;\n",
              "    }\n",
              "\n",
              "    .dataframe thead tr:last-of-type th {\n",
              "        text-align: right;\n",
              "    }\n",
              "</style>\n",
              "<table border=\"1\" class=\"dataframe\">\n",
              "  <thead>\n",
              "    <tr>\n",
              "      <th></th>\n",
              "      <th colspan=\"8\" halign=\"left\">income16</th>\n",
              "    </tr>\n",
              "    <tr>\n",
              "      <th></th>\n",
              "      <th>count</th>\n",
              "      <th>mean</th>\n",
              "      <th>std</th>\n",
              "      <th>min</th>\n",
              "      <th>25%</th>\n",
              "      <th>50%</th>\n",
              "      <th>75%</th>\n",
              "      <th>max</th>\n",
              "    </tr>\n",
              "    <tr>\n",
              "      <th>sex</th>\n",
              "      <th></th>\n",
              "      <th></th>\n",
              "      <th></th>\n",
              "      <th></th>\n",
              "      <th></th>\n",
              "      <th></th>\n",
              "      <th></th>\n",
              "      <th></th>\n",
              "    </tr>\n",
              "  </thead>\n",
              "  <tbody>\n",
              "    <tr>\n",
              "      <th>female</th>\n",
              "      <td>3440.0</td>\n",
              "      <td>32833.575581</td>\n",
              "      <td>50274.722441</td>\n",
              "      <td>0.0</td>\n",
              "      <td>0.0</td>\n",
              "      <td>0.0</td>\n",
              "      <td>55000.0</td>\n",
              "      <td>170000.0</td>\n",
              "    </tr>\n",
              "    <tr>\n",
              "      <th>male</th>\n",
              "      <td>2756.0</td>\n",
              "      <td>39377.721335</td>\n",
              "      <td>55509.772662</td>\n",
              "      <td>0.0</td>\n",
              "      <td>0.0</td>\n",
              "      <td>0.0</td>\n",
              "      <td>67500.0</td>\n",
              "      <td>170000.0</td>\n",
              "    </tr>\n",
              "  </tbody>\n",
              "</table>\n",
              "</div>"
            ],
            "text/plain": [
              "       income16                                                              \n",
              "          count          mean           std  min  25%  50%      75%       max\n",
              "sex                                                                          \n",
              "female   3440.0  32833.575581  50274.722441  0.0  0.0  0.0  55000.0  170000.0\n",
              "male     2756.0  39377.721335  55509.772662  0.0  0.0  0.0  67500.0  170000.0"
            ]
          },
          "execution_count": 18,
          "metadata": {},
          "output_type": "execute_result"
        }
      ],
      "source": [
        "df_middleaged = df.loc[(df['age'] >= 35) & (df['age'] < 50)]\n",
        "df_middleaged.loc[:,['sex','income16']].groupby('sex').describe()"
      ]
    },
    {
      "cell_type": "markdown",
      "id": "1863061e",
      "metadata": {
        "id": "1863061e"
      },
      "source": [
        "In this category, we see that the income for males is about 19.9% higher than that for females, about equal to our baseline of 19.8% that we found earlier."
      ]
    },
    {
      "cell_type": "code",
      "execution_count": null,
      "id": "051345cd",
      "metadata": {
        "id": "051345cd",
        "outputId": "0540cfac-8451-4ee9-8876-42288d4b37e6"
      },
      "outputs": [
        {
          "data": {
            "text/html": [
              "<div>\n",
              "<style scoped>\n",
              "    .dataframe tbody tr th:only-of-type {\n",
              "        vertical-align: middle;\n",
              "    }\n",
              "\n",
              "    .dataframe tbody tr th {\n",
              "        vertical-align: top;\n",
              "    }\n",
              "\n",
              "    .dataframe thead tr th {\n",
              "        text-align: left;\n",
              "    }\n",
              "\n",
              "    .dataframe thead tr:last-of-type th {\n",
              "        text-align: right;\n",
              "    }\n",
              "</style>\n",
              "<table border=\"1\" class=\"dataframe\">\n",
              "  <thead>\n",
              "    <tr>\n",
              "      <th></th>\n",
              "      <th colspan=\"8\" halign=\"left\">income16</th>\n",
              "    </tr>\n",
              "    <tr>\n",
              "      <th></th>\n",
              "      <th>count</th>\n",
              "      <th>mean</th>\n",
              "      <th>std</th>\n",
              "      <th>min</th>\n",
              "      <th>25%</th>\n",
              "      <th>50%</th>\n",
              "      <th>75%</th>\n",
              "      <th>max</th>\n",
              "    </tr>\n",
              "    <tr>\n",
              "      <th>sex</th>\n",
              "      <th></th>\n",
              "      <th></th>\n",
              "      <th></th>\n",
              "      <th></th>\n",
              "      <th></th>\n",
              "      <th></th>\n",
              "      <th></th>\n",
              "      <th></th>\n",
              "    </tr>\n",
              "  </thead>\n",
              "  <tbody>\n",
              "    <tr>\n",
              "      <th>female</th>\n",
              "      <td>4232.0</td>\n",
              "      <td>35056.001890</td>\n",
              "      <td>50519.327283</td>\n",
              "      <td>0.0</td>\n",
              "      <td>0.0</td>\n",
              "      <td>0.0</td>\n",
              "      <td>55000.0</td>\n",
              "      <td>170000.0</td>\n",
              "    </tr>\n",
              "    <tr>\n",
              "      <th>male</th>\n",
              "      <td>3661.0</td>\n",
              "      <td>39249.385414</td>\n",
              "      <td>55492.928489</td>\n",
              "      <td>0.0</td>\n",
              "      <td>0.0</td>\n",
              "      <td>0.0</td>\n",
              "      <td>67500.0</td>\n",
              "      <td>170000.0</td>\n",
              "    </tr>\n",
              "  </tbody>\n",
              "</table>\n",
              "</div>"
            ],
            "text/plain": [
              "       income16                                                              \n",
              "          count          mean           std  min  25%  50%      75%       max\n",
              "sex                                                                          \n",
              "female   4232.0  35056.001890  50519.327283  0.0  0.0  0.0  55000.0  170000.0\n",
              "male     3661.0  39249.385414  55492.928489  0.0  0.0  0.0  67500.0  170000.0"
            ]
          },
          "execution_count": 20,
          "metadata": {},
          "output_type": "execute_result"
        }
      ],
      "source": [
        "df_older = df.loc[(df['age'] >= 50) & (df['age'] < 70)]\n",
        "df_older.loc[:,['sex','income16']].groupby('sex').describe()"
      ]
    },
    {
      "cell_type": "markdown",
      "id": "d0c761d1",
      "metadata": {
        "id": "d0c761d1"
      },
      "source": [
        "Here, we see that the income for males is about 12.0% higher than that of females, lower than our baseline of 19.8% earlier. This is contrary to our hypothesis that the gender wage gap is higher at higher ages, but we will visually see the data more clearly in a bar graph later below. Before this, we can examine our \"very old\" group:"
      ]
    },
    {
      "cell_type": "code",
      "execution_count": null,
      "id": "5bd4a162",
      "metadata": {
        "id": "5bd4a162",
        "outputId": "3e96a70c-a3c4-4536-8df0-a1fb03e65bdf"
      },
      "outputs": [
        {
          "data": {
            "text/html": [
              "<div>\n",
              "<style scoped>\n",
              "    .dataframe tbody tr th:only-of-type {\n",
              "        vertical-align: middle;\n",
              "    }\n",
              "\n",
              "    .dataframe tbody tr th {\n",
              "        vertical-align: top;\n",
              "    }\n",
              "\n",
              "    .dataframe thead tr th {\n",
              "        text-align: left;\n",
              "    }\n",
              "\n",
              "    .dataframe thead tr:last-of-type th {\n",
              "        text-align: right;\n",
              "    }\n",
              "</style>\n",
              "<table border=\"1\" class=\"dataframe\">\n",
              "  <thead>\n",
              "    <tr>\n",
              "      <th></th>\n",
              "      <th colspan=\"8\" halign=\"left\">income16</th>\n",
              "    </tr>\n",
              "    <tr>\n",
              "      <th></th>\n",
              "      <th>count</th>\n",
              "      <th>mean</th>\n",
              "      <th>std</th>\n",
              "      <th>min</th>\n",
              "      <th>25%</th>\n",
              "      <th>50%</th>\n",
              "      <th>75%</th>\n",
              "      <th>max</th>\n",
              "    </tr>\n",
              "    <tr>\n",
              "      <th>sex</th>\n",
              "      <th></th>\n",
              "      <th></th>\n",
              "      <th></th>\n",
              "      <th></th>\n",
              "      <th></th>\n",
              "      <th></th>\n",
              "      <th></th>\n",
              "      <th></th>\n",
              "    </tr>\n",
              "  </thead>\n",
              "  <tbody>\n",
              "    <tr>\n",
              "      <th>female</th>\n",
              "      <td>1973.0</td>\n",
              "      <td>23976.178409</td>\n",
              "      <td>39333.639650</td>\n",
              "      <td>0.0</td>\n",
              "      <td>0.0</td>\n",
              "      <td>0.0</td>\n",
              "      <td>32500.0</td>\n",
              "      <td>170000.0</td>\n",
              "    </tr>\n",
              "    <tr>\n",
              "      <th>male</th>\n",
              "      <td>1472.0</td>\n",
              "      <td>38345.108696</td>\n",
              "      <td>49238.667079</td>\n",
              "      <td>0.0</td>\n",
              "      <td>0.0</td>\n",
              "      <td>15000.0</td>\n",
              "      <td>67500.0</td>\n",
              "      <td>170000.0</td>\n",
              "    </tr>\n",
              "  </tbody>\n",
              "</table>\n",
              "</div>"
            ],
            "text/plain": [
              "       income16                                                          \\\n",
              "          count          mean           std  min  25%      50%      75%   \n",
              "sex                                                                       \n",
              "female   1973.0  23976.178409  39333.639650  0.0  0.0      0.0  32500.0   \n",
              "male     1472.0  38345.108696  49238.667079  0.0  0.0  15000.0  67500.0   \n",
              "\n",
              "                  \n",
              "             max  \n",
              "sex               \n",
              "female  170000.0  \n",
              "male    170000.0  "
            ]
          },
          "execution_count": 21,
          "metadata": {},
          "output_type": "execute_result"
        }
      ],
      "source": [
        "df_veryold = df.loc[(df['age'] >= 70)]\n",
        "df_veryold.loc[:,['sex','income16']].groupby('sex').describe()"
      ]
    },
    {
      "cell_type": "markdown",
      "id": "29351d72",
      "metadata": {
        "id": "29351d72"
      },
      "source": [
        "Here we find a much higher wage gap of about 60.0%, in line with our original hypothesis that the gender wage gap rises with age; however, there are other factors to consider here: for example, people aged higher than 70 may well have grown up in a time when there were fewer opportunities for women to enter the workforce for similar pay to men, and this may be a cause of the drastically high wage gap in this case.\n",
        "\n",
        "We can also visually see the differences in gender pay gap based on age if we show a bar graph of the incomes of males and females at several different groups of ages:"
      ]
    },
    {
      "cell_type": "code",
      "execution_count": null,
      "id": "87a761e0",
      "metadata": {
        "id": "87a761e0",
        "outputId": "659f39ed-701b-41ff-de11-71170ed1dcf7"
      },
      "outputs": [
        {
          "data": {
            "text/plain": [
              "<AxesSubplot:xlabel='agegroup', ylabel='income16'>"
            ]
          },
          "execution_count": 22,
          "metadata": {},
          "output_type": "execute_result"
        },
        {
          "data": {
            "image/png": "[encoded data removed]",
            "text/plain": [
              "<Figure size 720x432 with 1 Axes>"
            ]
          },
          "metadata": {
            "needs_background": "light"
          },
          "output_type": "display_data"
        }
      ],
      "source": [
        "df['agegroup'] = pd.qcut(df['age'],8)\n",
        "fig, ax = plt.subplots(1,1,figsize=(10,6))\n",
        "sns.barplot(data=df,x='agegroup',y='income16',hue='sex',ax=ax)"
      ]
    },
    {
      "cell_type": "markdown",
      "id": "b445a38e",
      "metadata": {
        "id": "b445a38e"
      },
      "source": [
        "Here, we see that the gender wage gap does broadly rise with age, though it decreases for a few of the age groups between 45 and 65, in line with what we observed from the statistics earlier."
      ]
    },
    {
      "cell_type": "markdown",
      "id": "413deacc",
      "metadata": {
        "id": "413deacc"
      },
      "source": [
        "# The impact of marital status on gender wage gap:"
      ]
    },
    {
      "cell_type": "markdown",
      "id": "9eeed93b",
      "metadata": {
        "id": "9eeed93b"
      },
      "source": [
        "Here, since there are only a few different marital status groups, we can start by plotting a bar graph of income differences between males and females within groups of different marital statuses:"
      ]
    },
    {
      "cell_type": "code",
      "execution_count": null,
      "id": "9a85bf2a",
      "metadata": {
        "id": "9a85bf2a",
        "outputId": "8cfe0408-03e2-4583-cafb-7368340327ba"
      },
      "outputs": [
        {
          "data": {
            "text/plain": [
              "<AxesSubplot:xlabel='marital', ylabel='income16'>"
            ]
          },
          "execution_count": 23,
          "metadata": {},
          "output_type": "execute_result"
        },
        {
          "data": {
            "image/png": "[encoded data removed]",
            "text/plain": [
              "<Figure size 720x432 with 1 Axes>"
            ]
          },
          "metadata": {
            "needs_background": "light"
          },
          "output_type": "display_data"
        }
      ],
      "source": [
        "fig, ax = plt.subplots(1,1,figsize=(10,6))\n",
        "sns.barplot(data=df,x='marital',y='income16',hue='sex',ax=ax)"
      ]
    },
    {
      "cell_type": "markdown",
      "id": "d977280f",
      "metadata": {
        "id": "d977280f"
      },
      "source": [
        "Here, we see that the gender pay gap seems to be lower for never married, divorced, and unmarried individuals, whereas higher for married or widowed individuals. We can also examine numerical statistics for each of these groups, comparing the wage gap percentage to our overall baseline of 19.8% that we found earlier:"
      ]
    },
    {
      "cell_type": "code",
      "execution_count": null,
      "id": "6041a05e",
      "metadata": {
        "id": "6041a05e",
        "outputId": "d72187f6-bd8c-4ab1-feed-15352b17af82"
      },
      "outputs": [
        {
          "data": {
            "text/html": [
              "<div>\n",
              "<style scoped>\n",
              "    .dataframe tbody tr th:only-of-type {\n",
              "        vertical-align: middle;\n",
              "    }\n",
              "\n",
              "    .dataframe tbody tr th {\n",
              "        vertical-align: top;\n",
              "    }\n",
              "\n",
              "    .dataframe thead tr th {\n",
              "        text-align: left;\n",
              "    }\n",
              "\n",
              "    .dataframe thead tr:last-of-type th {\n",
              "        text-align: right;\n",
              "    }\n",
              "</style>\n",
              "<table border=\"1\" class=\"dataframe\">\n",
              "  <thead>\n",
              "    <tr>\n",
              "      <th></th>\n",
              "      <th colspan=\"8\" halign=\"left\">income16</th>\n",
              "    </tr>\n",
              "    <tr>\n",
              "      <th></th>\n",
              "      <th>count</th>\n",
              "      <th>mean</th>\n",
              "      <th>std</th>\n",
              "      <th>min</th>\n",
              "      <th>25%</th>\n",
              "      <th>50%</th>\n",
              "      <th>75%</th>\n",
              "      <th>max</th>\n",
              "    </tr>\n",
              "    <tr>\n",
              "      <th>sex</th>\n",
              "      <th></th>\n",
              "      <th></th>\n",
              "      <th></th>\n",
              "      <th></th>\n",
              "      <th></th>\n",
              "      <th></th>\n",
              "      <th></th>\n",
              "      <th></th>\n",
              "    </tr>\n",
              "  </thead>\n",
              "  <tbody>\n",
              "    <tr>\n",
              "      <th>female</th>\n",
              "      <td>5651.0</td>\n",
              "      <td>40950.893647</td>\n",
              "      <td>56159.601497</td>\n",
              "      <td>0.0</td>\n",
              "      <td>0.0</td>\n",
              "      <td>0.0</td>\n",
              "      <td>82500.0</td>\n",
              "      <td>170000.0</td>\n",
              "    </tr>\n",
              "    <tr>\n",
              "      <th>male</th>\n",
              "      <td>5237.0</td>\n",
              "      <td>46850.105022</td>\n",
              "      <td>59758.619428</td>\n",
              "      <td>0.0</td>\n",
              "      <td>0.0</td>\n",
              "      <td>0.0</td>\n",
              "      <td>82500.0</td>\n",
              "      <td>170000.0</td>\n",
              "    </tr>\n",
              "  </tbody>\n",
              "</table>\n",
              "</div>"
            ],
            "text/plain": [
              "       income16                                                              \n",
              "          count          mean           std  min  25%  50%      75%       max\n",
              "sex                                                                          \n",
              "female   5651.0  40950.893647  56159.601497  0.0  0.0  0.0  82500.0  170000.0\n",
              "male     5237.0  46850.105022  59758.619428  0.0  0.0  0.0  82500.0  170000.0"
            ]
          },
          "execution_count": 24,
          "metadata": {},
          "output_type": "execute_result"
        }
      ],
      "source": [
        "df_married = df.loc[(df['marital'] == 'married')]\n",
        "df_married.loc[:,['sex','income16']].groupby('sex').describe()"
      ]
    },
    {
      "cell_type": "code",
      "execution_count": null,
      "id": "7cca031d",
      "metadata": {
        "id": "7cca031d",
        "outputId": "93b3ab06-aac8-4325-f895-8ea75d83b6db"
      },
      "outputs": [
        {
          "name": "stdout",
          "output_type": "stream",
          "text": [
            "MARRIED\n",
            "\n",
            "Percent difference: 14.4%\n",
            "Baseline: 19.8%\n"
          ]
        }
      ],
      "source": [
        "print(\"MARRIED\\n\")\n",
        "print(\"Percent difference: \" + str(round((46850.105022 - 40950.893647)/40950.893647*100,1)) + \"%\")\n",
        "print(\"Baseline: 19.8%\")"
      ]
    },
    {
      "cell_type": "code",
      "execution_count": null,
      "id": "a25f7373",
      "metadata": {
        "id": "a25f7373",
        "outputId": "2aec7982-73c1-40e7-f4e3-130a1df9cc34"
      },
      "outputs": [
        {
          "data": {
            "text/html": [
              "<div>\n",
              "<style scoped>\n",
              "    .dataframe tbody tr th:only-of-type {\n",
              "        vertical-align: middle;\n",
              "    }\n",
              "\n",
              "    .dataframe tbody tr th {\n",
              "        vertical-align: top;\n",
              "    }\n",
              "\n",
              "    .dataframe thead tr th {\n",
              "        text-align: left;\n",
              "    }\n",
              "\n",
              "    .dataframe thead tr:last-of-type th {\n",
              "        text-align: right;\n",
              "    }\n",
              "</style>\n",
              "<table border=\"1\" class=\"dataframe\">\n",
              "  <thead>\n",
              "    <tr>\n",
              "      <th></th>\n",
              "      <th colspan=\"8\" halign=\"left\">income16</th>\n",
              "    </tr>\n",
              "    <tr>\n",
              "      <th></th>\n",
              "      <th>count</th>\n",
              "      <th>mean</th>\n",
              "      <th>std</th>\n",
              "      <th>min</th>\n",
              "      <th>25%</th>\n",
              "      <th>50%</th>\n",
              "      <th>75%</th>\n",
              "      <th>max</th>\n",
              "    </tr>\n",
              "    <tr>\n",
              "      <th>sex</th>\n",
              "      <th></th>\n",
              "      <th></th>\n",
              "      <th></th>\n",
              "      <th></th>\n",
              "      <th></th>\n",
              "      <th></th>\n",
              "      <th></th>\n",
              "      <th></th>\n",
              "    </tr>\n",
              "  </thead>\n",
              "  <tbody>\n",
              "    <tr>\n",
              "      <th>female</th>\n",
              "      <td>3294.0</td>\n",
              "      <td>22706.739526</td>\n",
              "      <td>37611.270127</td>\n",
              "      <td>0.0</td>\n",
              "      <td>0.0</td>\n",
              "      <td>0.0</td>\n",
              "      <td>32500.0</td>\n",
              "      <td>170000.0</td>\n",
              "    </tr>\n",
              "    <tr>\n",
              "      <th>male</th>\n",
              "      <td>3119.0</td>\n",
              "      <td>25757.855082</td>\n",
              "      <td>40673.803621</td>\n",
              "      <td>0.0</td>\n",
              "      <td>0.0</td>\n",
              "      <td>0.0</td>\n",
              "      <td>37500.0</td>\n",
              "      <td>170000.0</td>\n",
              "    </tr>\n",
              "  </tbody>\n",
              "</table>\n",
              "</div>"
            ],
            "text/plain": [
              "       income16                                                              \n",
              "          count          mean           std  min  25%  50%      75%       max\n",
              "sex                                                                          \n",
              "female   3294.0  22706.739526  37611.270127  0.0  0.0  0.0  32500.0  170000.0\n",
              "male     3119.0  25757.855082  40673.803621  0.0  0.0  0.0  37500.0  170000.0"
            ]
          },
          "execution_count": 26,
          "metadata": {},
          "output_type": "execute_result"
        }
      ],
      "source": [
        "df_nevermarried = df.loc[(df['marital'] == 'never married')]\n",
        "df_nevermarried.loc[:,['sex','income16']].groupby('sex').describe()"
      ]
    },
    {
      "cell_type": "code",
      "execution_count": null,
      "id": "d2222d88",
      "metadata": {
        "id": "d2222d88",
        "outputId": "ae394fee-b244-4df3-b025-c8bfea8a39c2"
      },
      "outputs": [
        {
          "name": "stdout",
          "output_type": "stream",
          "text": [
            "NEVER MARRIED\n",
            "\n",
            "Percent difference: 13.4%\n",
            "Baseline: 19.8%\n"
          ]
        }
      ],
      "source": [
        "print(\"NEVER MARRIED\\n\")\n",
        "print(\"Percent difference: \" + str(round((25757.855082 - 22706.739526)/22706.739526*100,1)) + \"%\")\n",
        "print(\"Baseline: 19.8%\")"
      ]
    },
    {
      "cell_type": "code",
      "execution_count": null,
      "id": "86223c13",
      "metadata": {
        "id": "86223c13",
        "outputId": "1aaaa31d-4d12-44c2-9fdc-843091ebc936"
      },
      "outputs": [
        {
          "data": {
            "text/html": [
              "<div>\n",
              "<style scoped>\n",
              "    .dataframe tbody tr th:only-of-type {\n",
              "        vertical-align: middle;\n",
              "    }\n",
              "\n",
              "    .dataframe tbody tr th {\n",
              "        vertical-align: top;\n",
              "    }\n",
              "\n",
              "    .dataframe thead tr th {\n",
              "        text-align: left;\n",
              "    }\n",
              "\n",
              "    .dataframe thead tr:last-of-type th {\n",
              "        text-align: right;\n",
              "    }\n",
              "</style>\n",
              "<table border=\"1\" class=\"dataframe\">\n",
              "  <thead>\n",
              "    <tr>\n",
              "      <th></th>\n",
              "      <th colspan=\"8\" halign=\"left\">income16</th>\n",
              "    </tr>\n",
              "    <tr>\n",
              "      <th></th>\n",
              "      <th>count</th>\n",
              "      <th>mean</th>\n",
              "      <th>std</th>\n",
              "      <th>min</th>\n",
              "      <th>25%</th>\n",
              "      <th>50%</th>\n",
              "      <th>75%</th>\n",
              "      <th>max</th>\n",
              "    </tr>\n",
              "    <tr>\n",
              "      <th>sex</th>\n",
              "      <th></th>\n",
              "      <th></th>\n",
              "      <th></th>\n",
              "      <th></th>\n",
              "      <th></th>\n",
              "      <th></th>\n",
              "      <th></th>\n",
              "      <th></th>\n",
              "    </tr>\n",
              "  </thead>\n",
              "  <tbody>\n",
              "    <tr>\n",
              "      <th>female</th>\n",
              "      <td>2341.0</td>\n",
              "      <td>25269.863306</td>\n",
              "      <td>37972.587399</td>\n",
              "      <td>0.0</td>\n",
              "      <td>0.0</td>\n",
              "      <td>2000.0</td>\n",
              "      <td>37500.0</td>\n",
              "      <td>170000.0</td>\n",
              "    </tr>\n",
              "    <tr>\n",
              "      <th>male</th>\n",
              "      <td>1635.0</td>\n",
              "      <td>26888.990826</td>\n",
              "      <td>41973.515407</td>\n",
              "      <td>0.0</td>\n",
              "      <td>0.0</td>\n",
              "      <td>0.0</td>\n",
              "      <td>45000.0</td>\n",
              "      <td>170000.0</td>\n",
              "    </tr>\n",
              "  </tbody>\n",
              "</table>\n",
              "</div>"
            ],
            "text/plain": [
              "       income16                                                         \\\n",
              "          count          mean           std  min  25%     50%      75%   \n",
              "sex                                                                      \n",
              "female   2341.0  25269.863306  37972.587399  0.0  0.0  2000.0  37500.0   \n",
              "male     1635.0  26888.990826  41973.515407  0.0  0.0     0.0  45000.0   \n",
              "\n",
              "                  \n",
              "             max  \n",
              "sex               \n",
              "female  170000.0  \n",
              "male    170000.0  "
            ]
          },
          "execution_count": 28,
          "metadata": {},
          "output_type": "execute_result"
        }
      ],
      "source": [
        "df_divorced = df.loc[(df['marital'] == 'divorced')]\n",
        "df_divorced.loc[:,['sex','income16']].groupby('sex').describe()"
      ]
    },
    {
      "cell_type": "code",
      "execution_count": null,
      "id": "0ef88e9c",
      "metadata": {
        "id": "0ef88e9c",
        "outputId": "5cdfb783-6494-4cea-ad4e-f971b50c3401"
      },
      "outputs": [
        {
          "name": "stdout",
          "output_type": "stream",
          "text": [
            "DIVORCED\n",
            "\n",
            "Percent difference: 6.4%\n",
            "Baseline: 19.8%\n"
          ]
        }
      ],
      "source": [
        "print(\"DIVORCED\\n\")\n",
        "print(\"Percent difference: \" + str(round((26888.990826 - 25269.863306)/25269.863306*100,1)) + \"%\")\n",
        "print(\"Baseline: 19.8%\")"
      ]
    },
    {
      "cell_type": "code",
      "execution_count": null,
      "id": "225969d0",
      "metadata": {
        "id": "225969d0",
        "outputId": "df2450d6-7624-4859-ee28-aa3314670715"
      },
      "outputs": [
        {
          "data": {
            "text/html": [
              "<div>\n",
              "<style scoped>\n",
              "    .dataframe tbody tr th:only-of-type {\n",
              "        vertical-align: middle;\n",
              "    }\n",
              "\n",
              "    .dataframe tbody tr th {\n",
              "        vertical-align: top;\n",
              "    }\n",
              "\n",
              "    .dataframe thead tr th {\n",
              "        text-align: left;\n",
              "    }\n",
              "\n",
              "    .dataframe thead tr:last-of-type th {\n",
              "        text-align: right;\n",
              "    }\n",
              "</style>\n",
              "<table border=\"1\" class=\"dataframe\">\n",
              "  <thead>\n",
              "    <tr>\n",
              "      <th></th>\n",
              "      <th colspan=\"8\" halign=\"left\">income16</th>\n",
              "    </tr>\n",
              "    <tr>\n",
              "      <th></th>\n",
              "      <th>count</th>\n",
              "      <th>mean</th>\n",
              "      <th>std</th>\n",
              "      <th>min</th>\n",
              "      <th>25%</th>\n",
              "      <th>50%</th>\n",
              "      <th>75%</th>\n",
              "      <th>max</th>\n",
              "    </tr>\n",
              "    <tr>\n",
              "      <th>sex</th>\n",
              "      <th></th>\n",
              "      <th></th>\n",
              "      <th></th>\n",
              "      <th></th>\n",
              "      <th></th>\n",
              "      <th></th>\n",
              "      <th></th>\n",
              "      <th></th>\n",
              "    </tr>\n",
              "  </thead>\n",
              "  <tbody>\n",
              "    <tr>\n",
              "      <th>female</th>\n",
              "      <td>481.0</td>\n",
              "      <td>18432.952183</td>\n",
              "      <td>32379.388384</td>\n",
              "      <td>0.0</td>\n",
              "      <td>0.0</td>\n",
              "      <td>0.0</td>\n",
              "      <td>23750.0</td>\n",
              "      <td>170000.0</td>\n",
              "    </tr>\n",
              "    <tr>\n",
              "      <th>male</th>\n",
              "      <td>308.0</td>\n",
              "      <td>22516.233766</td>\n",
              "      <td>39317.535886</td>\n",
              "      <td>0.0</td>\n",
              "      <td>0.0</td>\n",
              "      <td>0.0</td>\n",
              "      <td>32500.0</td>\n",
              "      <td>170000.0</td>\n",
              "    </tr>\n",
              "  </tbody>\n",
              "</table>\n",
              "</div>"
            ],
            "text/plain": [
              "       income16                                                              \n",
              "          count          mean           std  min  25%  50%      75%       max\n",
              "sex                                                                          \n",
              "female    481.0  18432.952183  32379.388384  0.0  0.0  0.0  23750.0  170000.0\n",
              "male      308.0  22516.233766  39317.535886  0.0  0.0  0.0  32500.0  170000.0"
            ]
          },
          "execution_count": 30,
          "metadata": {},
          "output_type": "execute_result"
        }
      ],
      "source": [
        "df_notmarried = df.loc[(df['marital'] == 'not married')]\n",
        "df_notmarried.loc[:,['sex','income16']].groupby('sex').describe()"
      ]
    },
    {
      "cell_type": "code",
      "execution_count": null,
      "id": "cb3bc745",
      "metadata": {
        "id": "cb3bc745",
        "outputId": "b0d39564-5d2e-436a-d784-89baef548adc"
      },
      "outputs": [
        {
          "name": "stdout",
          "output_type": "stream",
          "text": [
            "NOT MARRIED\n",
            "\n",
            "Percent difference: 22.2%\n",
            "Baseline: 19.8%\n"
          ]
        }
      ],
      "source": [
        "print(\"NOT MARRIED\\n\")\n",
        "print(\"Percent difference: \" + str(round((22516.233766 - 18432.952183)/18432.952183*100,1)) + \"%\")\n",
        "print(\"Baseline: 19.8%\")"
      ]
    },
    {
      "cell_type": "code",
      "execution_count": null,
      "id": "99dcfc23",
      "metadata": {
        "id": "99dcfc23",
        "outputId": "38771b91-b112-4077-bb2b-6b811b8638d0"
      },
      "outputs": [
        {
          "data": {
            "text/html": [
              "<div>\n",
              "<style scoped>\n",
              "    .dataframe tbody tr th:only-of-type {\n",
              "        vertical-align: middle;\n",
              "    }\n",
              "\n",
              "    .dataframe tbody tr th {\n",
              "        vertical-align: top;\n",
              "    }\n",
              "\n",
              "    .dataframe thead tr th {\n",
              "        text-align: left;\n",
              "    }\n",
              "\n",
              "    .dataframe thead tr:last-of-type th {\n",
              "        text-align: right;\n",
              "    }\n",
              "</style>\n",
              "<table border=\"1\" class=\"dataframe\">\n",
              "  <thead>\n",
              "    <tr>\n",
              "      <th></th>\n",
              "      <th colspan=\"8\" halign=\"left\">income16</th>\n",
              "    </tr>\n",
              "    <tr>\n",
              "      <th></th>\n",
              "      <th>count</th>\n",
              "      <th>mean</th>\n",
              "      <th>std</th>\n",
              "      <th>min</th>\n",
              "      <th>25%</th>\n",
              "      <th>50%</th>\n",
              "      <th>75%</th>\n",
              "      <th>max</th>\n",
              "    </tr>\n",
              "    <tr>\n",
              "      <th>sex</th>\n",
              "      <th></th>\n",
              "      <th></th>\n",
              "      <th></th>\n",
              "      <th></th>\n",
              "      <th></th>\n",
              "      <th></th>\n",
              "      <th></th>\n",
              "      <th></th>\n",
              "    </tr>\n",
              "  </thead>\n",
              "  <tbody>\n",
              "    <tr>\n",
              "      <th>female</th>\n",
              "      <td>1467.0</td>\n",
              "      <td>17905.589639</td>\n",
              "      <td>32690.145039</td>\n",
              "      <td>0.0</td>\n",
              "      <td>0.0</td>\n",
              "      <td>0.0</td>\n",
              "      <td>23750.0</td>\n",
              "      <td>170000.0</td>\n",
              "    </tr>\n",
              "    <tr>\n",
              "      <th>male</th>\n",
              "      <td>485.0</td>\n",
              "      <td>29863.917526</td>\n",
              "      <td>44664.359360</td>\n",
              "      <td>0.0</td>\n",
              "      <td>0.0</td>\n",
              "      <td>500.0</td>\n",
              "      <td>45000.0</td>\n",
              "      <td>170000.0</td>\n",
              "    </tr>\n",
              "  </tbody>\n",
              "</table>\n",
              "</div>"
            ],
            "text/plain": [
              "       income16                                                        \\\n",
              "          count          mean           std  min  25%    50%      75%   \n",
              "sex                                                                     \n",
              "female   1467.0  17905.589639  32690.145039  0.0  0.0    0.0  23750.0   \n",
              "male      485.0  29863.917526  44664.359360  0.0  0.0  500.0  45000.0   \n",
              "\n",
              "                  \n",
              "             max  \n",
              "sex               \n",
              "female  170000.0  \n",
              "male    170000.0  "
            ]
          },
          "execution_count": 32,
          "metadata": {},
          "output_type": "execute_result"
        }
      ],
      "source": [
        "df_widowed = df.loc[(df['marital'] == 'widowed')]\n",
        "df_widowed.loc[:,['sex','income16']].groupby('sex').describe()"
      ]
    },
    {
      "cell_type": "code",
      "execution_count": null,
      "id": "fb7ab2c8",
      "metadata": {
        "id": "fb7ab2c8",
        "outputId": "5a9697b3-88d9-4b87-a308-fa917c6e4512"
      },
      "outputs": [
        {
          "name": "stdout",
          "output_type": "stream",
          "text": [
            "WIDOWED\n",
            "\n",
            "Percent difference: 66.8%\n",
            "Baseline: 19.8%\n"
          ]
        }
      ],
      "source": [
        "print(\"WIDOWED\\n\")\n",
        "print(\"Percent difference: \" + str(round((29863.917526 - 17905.589639)/17905.589639*100,1)) + \"%\")\n",
        "print(\"Baseline: 19.8%\")"
      ]
    },
    {
      "cell_type": "markdown",
      "id": "c1171259",
      "metadata": {
        "id": "c1171259"
      },
      "source": [
        "Overall, we see that the gender wage gap is slightly lower for individuals that are unmarried, except in the case of widowed individuals, in which there is a dramatic wage gap. It is noteworthy, though, that the sample size of widowed men is significantly lower than that of widowed women; we know women tend to live longer than men, so this is to be expected, but this does also hint that there may be other extenuating factors that make this group have a particularly large wage gap, including the argument posed for the \"very old\" group from the previous section.\n",
        "\n"
      ]
    },
    {
      "cell_type": "markdown",
      "id": "1c525b88",
      "metadata": {
        "id": "1c525b88"
      },
      "source": [
        "# The impact of education on gender wage gap:"
      ]
    },
    {
      "cell_type": "markdown",
      "id": "fa2f382c",
      "metadata": {
        "id": "fa2f382c"
      },
      "source": [
        "Like in the previous section, since there are relatively few groups of education levels, we can begin with a bar graph to look for any visually apparent trends:"
      ]
    },
    {
      "cell_type": "code",
      "execution_count": null,
      "id": "fbe53303",
      "metadata": {
        "id": "fbe53303",
        "outputId": "ba914f0d-f3e4-465a-ecf0-1428a5a7459c"
      },
      "outputs": [
        {
          "data": {
            "text/plain": [
              "<AxesSubplot:xlabel='degree', ylabel='income16'>"
            ]
          },
          "execution_count": 34,
          "metadata": {},
          "output_type": "execute_result"
        },
        {
          "data": {
            "image/png": "[encoded data removed]",
            "text/plain": [
              "<Figure size 720x432 with 1 Axes>"
            ]
          },
          "metadata": {
            "needs_background": "light"
          },
          "output_type": "display_data"
        }
      ],
      "source": [
        "fig, ax = plt.subplots(1,1,figsize=(10,6))\n",
        "sns.barplot(data=df,x='degree',y='income16',hue='sex',ax=ax)"
      ]
    },
    {
      "cell_type": "markdown",
      "id": "5519eacf",
      "metadata": {
        "id": "5519eacf"
      },
      "source": [
        "From this, it appears that the gender wage gap may be lower for individuals with higher levels of education. As in the previous section, we can examine the statistics for each of these groups as well, comparing wage gap percentages to our baseline level:"
      ]
    },
    {
      "cell_type": "code",
      "execution_count": null,
      "id": "b918e3a8",
      "metadata": {
        "id": "b918e3a8",
        "outputId": "59af4aab-ca47-4591-a373-4e3f70269d83"
      },
      "outputs": [
        {
          "data": {
            "text/html": [
              "<div>\n",
              "<style scoped>\n",
              "    .dataframe tbody tr th:only-of-type {\n",
              "        vertical-align: middle;\n",
              "    }\n",
              "\n",
              "    .dataframe tbody tr th {\n",
              "        vertical-align: top;\n",
              "    }\n",
              "\n",
              "    .dataframe thead tr th {\n",
              "        text-align: left;\n",
              "    }\n",
              "\n",
              "    .dataframe thead tr:last-of-type th {\n",
              "        text-align: right;\n",
              "    }\n",
              "</style>\n",
              "<table border=\"1\" class=\"dataframe\">\n",
              "  <thead>\n",
              "    <tr>\n",
              "      <th></th>\n",
              "      <th colspan=\"8\" halign=\"left\">income16</th>\n",
              "    </tr>\n",
              "    <tr>\n",
              "      <th></th>\n",
              "      <th>count</th>\n",
              "      <th>mean</th>\n",
              "      <th>std</th>\n",
              "      <th>min</th>\n",
              "      <th>25%</th>\n",
              "      <th>50%</th>\n",
              "      <th>75%</th>\n",
              "      <th>max</th>\n",
              "    </tr>\n",
              "    <tr>\n",
              "      <th>sex</th>\n",
              "      <th></th>\n",
              "      <th></th>\n",
              "      <th></th>\n",
              "      <th></th>\n",
              "      <th></th>\n",
              "      <th></th>\n",
              "      <th></th>\n",
              "      <th></th>\n",
              "    </tr>\n",
              "  </thead>\n",
              "  <tbody>\n",
              "    <tr>\n",
              "      <th>female</th>\n",
              "      <td>6339.0</td>\n",
              "      <td>21460.088342</td>\n",
              "      <td>36090.050439</td>\n",
              "      <td>0.0</td>\n",
              "      <td>0.0</td>\n",
              "      <td>0.0</td>\n",
              "      <td>32500.0</td>\n",
              "      <td>170000.0</td>\n",
              "    </tr>\n",
              "    <tr>\n",
              "      <th>male</th>\n",
              "      <td>5234.0</td>\n",
              "      <td>28240.399312</td>\n",
              "      <td>42935.115310</td>\n",
              "      <td>0.0</td>\n",
              "      <td>0.0</td>\n",
              "      <td>0.0</td>\n",
              "      <td>45000.0</td>\n",
              "      <td>170000.0</td>\n",
              "    </tr>\n",
              "  </tbody>\n",
              "</table>\n",
              "</div>"
            ],
            "text/plain": [
              "       income16                                                              \n",
              "          count          mean           std  min  25%  50%      75%       max\n",
              "sex                                                                          \n",
              "female   6339.0  21460.088342  36090.050439  0.0  0.0  0.0  32500.0  170000.0\n",
              "male     5234.0  28240.399312  42935.115310  0.0  0.0  0.0  45000.0  170000.0"
            ]
          },
          "execution_count": 35,
          "metadata": {},
          "output_type": "execute_result"
        }
      ],
      "source": [
        "df_highschool = df.loc[(df['degree'] == 'high school')]\n",
        "df_highschool.loc[:,['sex','income16']].groupby('sex').describe()"
      ]
    },
    {
      "cell_type": "code",
      "execution_count": null,
      "id": "9f9f6dd6",
      "metadata": {
        "id": "9f9f6dd6",
        "outputId": "7dab1935-cf6b-4dfe-9001-9f3cf85f1b2c"
      },
      "outputs": [
        {
          "name": "stdout",
          "output_type": "stream",
          "text": [
            "HIGH SCHOOL\n",
            "\n",
            "Percent difference: 31.6%\n",
            "Baseline: 19.8%\n"
          ]
        }
      ],
      "source": [
        "print(\"HIGH SCHOOL\\n\")\n",
        "print(\"Percent difference: \" + str(round((28240.399312 - 21460.088342)/21460.088342*100,1)) + \"%\")\n",
        "print(\"Baseline: 19.8%\")"
      ]
    },
    {
      "cell_type": "code",
      "execution_count": null,
      "id": "903fa8b5",
      "metadata": {
        "id": "903fa8b5",
        "outputId": "d9b39ac1-0cac-4a2e-c4a9-d2ab200b3b17"
      },
      "outputs": [
        {
          "data": {
            "text/html": [
              "<div>\n",
              "<style scoped>\n",
              "    .dataframe tbody tr th:only-of-type {\n",
              "        vertical-align: middle;\n",
              "    }\n",
              "\n",
              "    .dataframe tbody tr th {\n",
              "        vertical-align: top;\n",
              "    }\n",
              "\n",
              "    .dataframe thead tr th {\n",
              "        text-align: left;\n",
              "    }\n",
              "\n",
              "    .dataframe thead tr:last-of-type th {\n",
              "        text-align: right;\n",
              "    }\n",
              "</style>\n",
              "<table border=\"1\" class=\"dataframe\">\n",
              "  <thead>\n",
              "    <tr>\n",
              "      <th></th>\n",
              "      <th colspan=\"8\" halign=\"left\">income16</th>\n",
              "    </tr>\n",
              "    <tr>\n",
              "      <th></th>\n",
              "      <th>count</th>\n",
              "      <th>mean</th>\n",
              "      <th>std</th>\n",
              "      <th>min</th>\n",
              "      <th>25%</th>\n",
              "      <th>50%</th>\n",
              "      <th>75%</th>\n",
              "      <th>max</th>\n",
              "    </tr>\n",
              "    <tr>\n",
              "      <th>sex</th>\n",
              "      <th></th>\n",
              "      <th></th>\n",
              "      <th></th>\n",
              "      <th></th>\n",
              "      <th></th>\n",
              "      <th></th>\n",
              "      <th></th>\n",
              "      <th></th>\n",
              "    </tr>\n",
              "  </thead>\n",
              "  <tbody>\n",
              "    <tr>\n",
              "      <th>female</th>\n",
              "      <td>2568.0</td>\n",
              "      <td>46760.514019</td>\n",
              "      <td>56882.116450</td>\n",
              "      <td>0.0</td>\n",
              "      <td>0.0</td>\n",
              "      <td>18750.0</td>\n",
              "      <td>82500.0</td>\n",
              "      <td>170000.0</td>\n",
              "    </tr>\n",
              "    <tr>\n",
              "      <th>male</th>\n",
              "      <td>2172.0</td>\n",
              "      <td>50684.967772</td>\n",
              "      <td>60426.956171</td>\n",
              "      <td>0.0</td>\n",
              "      <td>0.0</td>\n",
              "      <td>21250.0</td>\n",
              "      <td>100000.0</td>\n",
              "      <td>170000.0</td>\n",
              "    </tr>\n",
              "  </tbody>\n",
              "</table>\n",
              "</div>"
            ],
            "text/plain": [
              "       income16                                                           \\\n",
              "          count          mean           std  min  25%      50%       75%   \n",
              "sex                                                                        \n",
              "female   2568.0  46760.514019  56882.116450  0.0  0.0  18750.0   82500.0   \n",
              "male     2172.0  50684.967772  60426.956171  0.0  0.0  21250.0  100000.0   \n",
              "\n",
              "                  \n",
              "             max  \n",
              "sex               \n",
              "female  170000.0  \n",
              "male    170000.0  "
            ]
          },
          "execution_count": 37,
          "metadata": {},
          "output_type": "execute_result"
        }
      ],
      "source": [
        "df_bachelors = df.loc[(df['degree'] == \"bachelor's\")]\n",
        "df_bachelors.loc[:,['sex','income16']].groupby('sex').describe()"
      ]
    },
    {
      "cell_type": "code",
      "execution_count": null,
      "id": "fc9fcef5",
      "metadata": {
        "id": "fc9fcef5",
        "outputId": "ccd594a1-c845-4d2c-d8c5-194fe8464928"
      },
      "outputs": [
        {
          "name": "stdout",
          "output_type": "stream",
          "text": [
            "BACHELOR'S\n",
            "\n",
            "Percent difference: 8.4%\n",
            "Baseline: 19.8%\n"
          ]
        }
      ],
      "source": [
        "print(\"BACHELOR'S\\n\")\n",
        "print(\"Percent difference: \" + str(round((50684.967772 - 46760.514019)/46760.514019*100,1)) + \"%\")\n",
        "print(\"Baseline: 19.8%\")"
      ]
    },
    {
      "cell_type": "code",
      "execution_count": null,
      "id": "4c320382",
      "metadata": {
        "id": "4c320382",
        "outputId": "4cbe4699-a363-4aa7-a3cd-a981c2a4b89f"
      },
      "outputs": [
        {
          "data": {
            "text/html": [
              "<div>\n",
              "<style scoped>\n",
              "    .dataframe tbody tr th:only-of-type {\n",
              "        vertical-align: middle;\n",
              "    }\n",
              "\n",
              "    .dataframe tbody tr th {\n",
              "        vertical-align: top;\n",
              "    }\n",
              "\n",
              "    .dataframe thead tr th {\n",
              "        text-align: left;\n",
              "    }\n",
              "\n",
              "    .dataframe thead tr:last-of-type th {\n",
              "        text-align: right;\n",
              "    }\n",
              "</style>\n",
              "<table border=\"1\" class=\"dataframe\">\n",
              "  <thead>\n",
              "    <tr>\n",
              "      <th></th>\n",
              "      <th colspan=\"8\" halign=\"left\">income16</th>\n",
              "    </tr>\n",
              "    <tr>\n",
              "      <th></th>\n",
              "      <th>count</th>\n",
              "      <th>mean</th>\n",
              "      <th>std</th>\n",
              "      <th>min</th>\n",
              "      <th>25%</th>\n",
              "      <th>50%</th>\n",
              "      <th>75%</th>\n",
              "      <th>max</th>\n",
              "    </tr>\n",
              "    <tr>\n",
              "      <th>sex</th>\n",
              "      <th></th>\n",
              "      <th></th>\n",
              "      <th></th>\n",
              "      <th></th>\n",
              "      <th></th>\n",
              "      <th></th>\n",
              "      <th></th>\n",
              "      <th></th>\n",
              "    </tr>\n",
              "  </thead>\n",
              "  <tbody>\n",
              "    <tr>\n",
              "      <th>female</th>\n",
              "      <td>1196.0</td>\n",
              "      <td>29672.031773</td>\n",
              "      <td>42795.142228</td>\n",
              "      <td>0.0</td>\n",
              "      <td>0.0</td>\n",
              "      <td>0.0</td>\n",
              "      <td>45000.0</td>\n",
              "      <td>170000.0</td>\n",
              "    </tr>\n",
              "    <tr>\n",
              "      <th>male</th>\n",
              "      <td>782.0</td>\n",
              "      <td>37651.534527</td>\n",
              "      <td>49644.019825</td>\n",
              "      <td>0.0</td>\n",
              "      <td>0.0</td>\n",
              "      <td>11250.0</td>\n",
              "      <td>67500.0</td>\n",
              "      <td>170000.0</td>\n",
              "    </tr>\n",
              "  </tbody>\n",
              "</table>\n",
              "</div>"
            ],
            "text/plain": [
              "       income16                                                          \\\n",
              "          count          mean           std  min  25%      50%      75%   \n",
              "sex                                                                       \n",
              "female   1196.0  29672.031773  42795.142228  0.0  0.0      0.0  45000.0   \n",
              "male      782.0  37651.534527  49644.019825  0.0  0.0  11250.0  67500.0   \n",
              "\n",
              "                  \n",
              "             max  \n",
              "sex               \n",
              "female  170000.0  \n",
              "male    170000.0  "
            ]
          },
          "execution_count": 39,
          "metadata": {},
          "output_type": "execute_result"
        }
      ],
      "source": [
        "df_associates = df.loc[(df['degree'] == \"associate/junior college\")]\n",
        "df_associates.loc[:,['sex','income16']].groupby('sex').describe()"
      ]
    },
    {
      "cell_type": "code",
      "execution_count": null,
      "id": "77b025aa",
      "metadata": {
        "id": "77b025aa",
        "outputId": "4180b361-03a1-45f0-d30c-6234194c04bb"
      },
      "outputs": [
        {
          "name": "stdout",
          "output_type": "stream",
          "text": [
            "ASSOCIATE/JUNIOR COLLEGE\n",
            "\n",
            "Percent difference: 26.9%\n",
            "Baseline: 19.8%\n"
          ]
        }
      ],
      "source": [
        "print(\"ASSOCIATE/JUNIOR COLLEGE\\n\")\n",
        "print(\"Percent difference: \" + str(round((37651.534527 - 29672.031773)/29672.031773*100,1)) + \"%\")\n",
        "print(\"Baseline: 19.8%\")"
      ]
    },
    {
      "cell_type": "code",
      "execution_count": null,
      "id": "5c8f4a18",
      "metadata": {
        "id": "5c8f4a18",
        "outputId": "920d226d-5dbb-45cb-841c-fb61fcc2e06e"
      },
      "outputs": [
        {
          "data": {
            "text/html": [
              "<div>\n",
              "<style scoped>\n",
              "    .dataframe tbody tr th:only-of-type {\n",
              "        vertical-align: middle;\n",
              "    }\n",
              "\n",
              "    .dataframe tbody tr th {\n",
              "        vertical-align: top;\n",
              "    }\n",
              "\n",
              "    .dataframe thead tr th {\n",
              "        text-align: left;\n",
              "    }\n",
              "\n",
              "    .dataframe thead tr:last-of-type th {\n",
              "        text-align: right;\n",
              "    }\n",
              "</style>\n",
              "<table border=\"1\" class=\"dataframe\">\n",
              "  <thead>\n",
              "    <tr>\n",
              "      <th></th>\n",
              "      <th colspan=\"8\" halign=\"left\">income16</th>\n",
              "    </tr>\n",
              "    <tr>\n",
              "      <th></th>\n",
              "      <th>count</th>\n",
              "      <th>mean</th>\n",
              "      <th>std</th>\n",
              "      <th>min</th>\n",
              "      <th>25%</th>\n",
              "      <th>50%</th>\n",
              "      <th>75%</th>\n",
              "      <th>max</th>\n",
              "    </tr>\n",
              "    <tr>\n",
              "      <th>sex</th>\n",
              "      <th></th>\n",
              "      <th></th>\n",
              "      <th></th>\n",
              "      <th></th>\n",
              "      <th></th>\n",
              "      <th></th>\n",
              "      <th></th>\n",
              "      <th></th>\n",
              "    </tr>\n",
              "  </thead>\n",
              "  <tbody>\n",
              "    <tr>\n",
              "      <th>female</th>\n",
              "      <td>1577.0</td>\n",
              "      <td>58750.792644</td>\n",
              "      <td>63594.703285</td>\n",
              "      <td>0.0</td>\n",
              "      <td>0.0</td>\n",
              "      <td>37500.0</td>\n",
              "      <td>100000.0</td>\n",
              "      <td>170000.0</td>\n",
              "    </tr>\n",
              "    <tr>\n",
              "      <th>male</th>\n",
              "      <td>1333.0</td>\n",
              "      <td>64845.086272</td>\n",
              "      <td>68307.440630</td>\n",
              "      <td>0.0</td>\n",
              "      <td>0.0</td>\n",
              "      <td>45000.0</td>\n",
              "      <td>120000.0</td>\n",
              "      <td>170000.0</td>\n",
              "    </tr>\n",
              "  </tbody>\n",
              "</table>\n",
              "</div>"
            ],
            "text/plain": [
              "       income16                                                           \\\n",
              "          count          mean           std  min  25%      50%       75%   \n",
              "sex                                                                        \n",
              "female   1577.0  58750.792644  63594.703285  0.0  0.0  37500.0  100000.0   \n",
              "male     1333.0  64845.086272  68307.440630  0.0  0.0  45000.0  120000.0   \n",
              "\n",
              "                  \n",
              "             max  \n",
              "sex               \n",
              "female  170000.0  \n",
              "male    170000.0  "
            ]
          },
          "execution_count": 41,
          "metadata": {},
          "output_type": "execute_result"
        }
      ],
      "source": [
        "df_graduate = df.loc[(df['degree'] == \"graduate\")]\n",
        "df_graduate.loc[:,['sex','income16']].groupby('sex').describe()"
      ]
    },
    {
      "cell_type": "code",
      "execution_count": null,
      "id": "21e422c7",
      "metadata": {
        "id": "21e422c7",
        "outputId": "fa591c68-9e03-4ad6-9e4b-9a75f9bd4cfd"
      },
      "outputs": [
        {
          "name": "stdout",
          "output_type": "stream",
          "text": [
            "GRADUATE\n",
            "\n",
            "Percent difference: 10.4%\n",
            "Baseline: 19.8%\n"
          ]
        }
      ],
      "source": [
        "print(\"GRADUATE\\n\")\n",
        "print(\"Percent difference: \" + str(round((64845.086272 - 58750.792644)/58750.792644*100,1)) + \"%\")\n",
        "print(\"Baseline: 19.8%\")"
      ]
    },
    {
      "cell_type": "code",
      "execution_count": null,
      "id": "af9b1511",
      "metadata": {
        "id": "af9b1511",
        "outputId": "6ec8df9b-15be-448e-dc63-9c284dae8040"
      },
      "outputs": [
        {
          "data": {
            "text/html": [
              "<div>\n",
              "<style scoped>\n",
              "    .dataframe tbody tr th:only-of-type {\n",
              "        vertical-align: middle;\n",
              "    }\n",
              "\n",
              "    .dataframe tbody tr th {\n",
              "        vertical-align: top;\n",
              "    }\n",
              "\n",
              "    .dataframe thead tr th {\n",
              "        text-align: left;\n",
              "    }\n",
              "\n",
              "    .dataframe thead tr:last-of-type th {\n",
              "        text-align: right;\n",
              "    }\n",
              "</style>\n",
              "<table border=\"1\" class=\"dataframe\">\n",
              "  <thead>\n",
              "    <tr>\n",
              "      <th></th>\n",
              "      <th colspan=\"8\" halign=\"left\">income16</th>\n",
              "    </tr>\n",
              "    <tr>\n",
              "      <th></th>\n",
              "      <th>count</th>\n",
              "      <th>mean</th>\n",
              "      <th>std</th>\n",
              "      <th>min</th>\n",
              "      <th>25%</th>\n",
              "      <th>50%</th>\n",
              "      <th>75%</th>\n",
              "      <th>max</th>\n",
              "    </tr>\n",
              "    <tr>\n",
              "      <th>sex</th>\n",
              "      <th></th>\n",
              "      <th></th>\n",
              "      <th></th>\n",
              "      <th></th>\n",
              "      <th></th>\n",
              "      <th></th>\n",
              "      <th></th>\n",
              "      <th></th>\n",
              "    </tr>\n",
              "  </thead>\n",
              "  <tbody>\n",
              "    <tr>\n",
              "      <th>female</th>\n",
              "      <td>1537.0</td>\n",
              "      <td>10357.514639</td>\n",
              "      <td>23989.105067</td>\n",
              "      <td>0.0</td>\n",
              "      <td>0.0</td>\n",
              "      <td>0.0</td>\n",
              "      <td>11250.0</td>\n",
              "      <td>170000.0</td>\n",
              "    </tr>\n",
              "    <tr>\n",
              "      <th>male</th>\n",
              "      <td>1252.0</td>\n",
              "      <td>13651.158147</td>\n",
              "      <td>29228.296734</td>\n",
              "      <td>0.0</td>\n",
              "      <td>0.0</td>\n",
              "      <td>0.0</td>\n",
              "      <td>11250.0</td>\n",
              "      <td>170000.0</td>\n",
              "    </tr>\n",
              "  </tbody>\n",
              "</table>\n",
              "</div>"
            ],
            "text/plain": [
              "       income16                                                              \n",
              "          count          mean           std  min  25%  50%      75%       max\n",
              "sex                                                                          \n",
              "female   1537.0  10357.514639  23989.105067  0.0  0.0  0.0  11250.0  170000.0\n",
              "male     1252.0  13651.158147  29228.296734  0.0  0.0  0.0  11250.0  170000.0"
            ]
          },
          "execution_count": 43,
          "metadata": {},
          "output_type": "execute_result"
        }
      ],
      "source": [
        "df_less = df.loc[(df['degree'] == \"less than high school\")]\n",
        "df_less.loc[:,['sex','income16']].groupby('sex').describe()"
      ]
    },
    {
      "cell_type": "code",
      "execution_count": null,
      "id": "f0763a71",
      "metadata": {
        "id": "f0763a71",
        "outputId": "f9dbd5e2-7181-4109-9297-41bf5b430c1f"
      },
      "outputs": [
        {
          "name": "stdout",
          "output_type": "stream",
          "text": [
            "LESS THAN HIGH SCHOOL\n",
            "\n",
            "Percent difference: 31.8%\n",
            "Baseline: 19.8%\n"
          ]
        }
      ],
      "source": [
        "print(\"LESS THAN HIGH SCHOOL\\n\")\n",
        "print(\"Percent difference: \" + str(round((13651.158147 - 10357.514639)/10357.514639*100,1)) + \"%\")\n",
        "print(\"Baseline: 19.8%\")"
      ]
    },
    {
      "cell_type": "markdown",
      "id": "952b8f2f",
      "metadata": {
        "id": "952b8f2f"
      },
      "source": [
        "Overall, we do see that the gender wage gap is highest for those with the lowest levels of education, and tends to decrease with increasing education."
      ]
    },
    {
      "cell_type": "markdown",
      "id": "9bd46514",
      "metadata": {
        "id": "9bd46514"
      },
      "source": [
        "# The Impact of Industry on Gender Wage Gap:"
      ]
    },
    {
      "cell_type": "code",
      "execution_count": null,
      "id": "c0c9d59c",
      "metadata": {
        "id": "c0c9d59c",
        "outputId": "d742f126-b0f2-4c5f-d113-f3aca92fe35a"
      },
      "outputs": [
        {
          "data": {
            "image/png": "[encoded data removed]",
            "text/plain": [
              "<Figure size 720x432 with 1 Axes>"
            ]
          },
          "metadata": {
            "needs_background": "light"
          },
          "output_type": "display_data"
        }
      ],
      "source": [
        "fig, ax = plt.subplots(1,1,figsize=(10,6))\n",
        "sns.barplot(data=df,x='indus10',y='income16',hue='sex',ax=ax)\n",
        "ax.set_xticklabels(ax.get_xticklabels(), fontsize=8, rotation=45)\n",
        "\n",
        "plt.show()"
      ]
    },
    {
      "cell_type": "markdown",
      "id": "b581743a",
      "metadata": {
        "id": "b581743a"
      },
      "source": [
        "From the barplot, it is evident that the male gender tends to have a higher income across all industries with the exception of management, business, science, and arts occuptions. To analyze this further, let's look at the statistics"
      ]
    },
    {
      "cell_type": "code",
      "execution_count": null,
      "id": "0f13a40c",
      "metadata": {
        "id": "0f13a40c",
        "outputId": "6fd86563-3ee5-4aaa-b5a8-088caadfbd2d"
      },
      "outputs": [
        {
          "data": {
            "text/html": [
              "<div>\n",
              "<style scoped>\n",
              "    .dataframe tbody tr th:only-of-type {\n",
              "        vertical-align: middle;\n",
              "    }\n",
              "\n",
              "    .dataframe tbody tr th {\n",
              "        vertical-align: top;\n",
              "    }\n",
              "\n",
              "    .dataframe thead tr th {\n",
              "        text-align: left;\n",
              "    }\n",
              "\n",
              "    .dataframe thead tr:last-of-type th {\n",
              "        text-align: right;\n",
              "    }\n",
              "</style>\n",
              "<table border=\"1\" class=\"dataframe\">\n",
              "  <thead>\n",
              "    <tr>\n",
              "      <th></th>\n",
              "      <th colspan=\"8\" halign=\"left\">income16</th>\n",
              "    </tr>\n",
              "    <tr>\n",
              "      <th></th>\n",
              "      <th>count</th>\n",
              "      <th>mean</th>\n",
              "      <th>std</th>\n",
              "      <th>min</th>\n",
              "      <th>25%</th>\n",
              "      <th>50%</th>\n",
              "      <th>75%</th>\n",
              "      <th>max</th>\n",
              "    </tr>\n",
              "    <tr>\n",
              "      <th>sex</th>\n",
              "      <th></th>\n",
              "      <th></th>\n",
              "      <th></th>\n",
              "      <th></th>\n",
              "      <th></th>\n",
              "      <th></th>\n",
              "      <th></th>\n",
              "      <th></th>\n",
              "    </tr>\n",
              "  </thead>\n",
              "  <tbody>\n",
              "    <tr>\n",
              "      <th>female</th>\n",
              "      <td>7244.0</td>\n",
              "      <td>31359.573440</td>\n",
              "      <td>47317.456581</td>\n",
              "      <td>0.0</td>\n",
              "      <td>0.0</td>\n",
              "      <td>0.0</td>\n",
              "      <td>55000.0</td>\n",
              "      <td>170000.0</td>\n",
              "    </tr>\n",
              "    <tr>\n",
              "      <th>male</th>\n",
              "      <td>3420.0</td>\n",
              "      <td>37411.842105</td>\n",
              "      <td>51841.543226</td>\n",
              "      <td>0.0</td>\n",
              "      <td>0.0</td>\n",
              "      <td>2000.0</td>\n",
              "      <td>67500.0</td>\n",
              "      <td>170000.0</td>\n",
              "    </tr>\n",
              "  </tbody>\n",
              "</table>\n",
              "</div>"
            ],
            "text/plain": [
              "       income16                                                         \\\n",
              "          count          mean           std  min  25%     50%      75%   \n",
              "sex                                                                      \n",
              "female   7244.0  31359.573440  47317.456581  0.0  0.0     0.0  55000.0   \n",
              "male     3420.0  37411.842105  51841.543226  0.0  0.0  2000.0  67500.0   \n",
              "\n",
              "                  \n",
              "             max  \n",
              "sex               \n",
              "female  170000.0  \n",
              "male    170000.0  "
            ]
          },
          "execution_count": 46,
          "metadata": {},
          "output_type": "execute_result"
        }
      ],
      "source": [
        "df_productionindus = df.loc[(df['indus10'] == \"Production, Transportation, and Material Moving Occupations\")]\n",
        "df_productionindus.loc[:,['sex','income16']].groupby('sex').describe()"
      ]
    },
    {
      "cell_type": "code",
      "execution_count": null,
      "id": "21823455",
      "metadata": {
        "id": "21823455",
        "outputId": "0fea9200-1381-42e8-db11-fb2ab3fd3a9a"
      },
      "outputs": [
        {
          "data": {
            "text/html": [
              "<div>\n",
              "<style scoped>\n",
              "    .dataframe tbody tr th:only-of-type {\n",
              "        vertical-align: middle;\n",
              "    }\n",
              "\n",
              "    .dataframe tbody tr th {\n",
              "        vertical-align: top;\n",
              "    }\n",
              "\n",
              "    .dataframe thead tr th {\n",
              "        text-align: left;\n",
              "    }\n",
              "\n",
              "    .dataframe thead tr:last-of-type th {\n",
              "        text-align: right;\n",
              "    }\n",
              "</style>\n",
              "<table border=\"1\" class=\"dataframe\">\n",
              "  <thead>\n",
              "    <tr>\n",
              "      <th></th>\n",
              "      <th colspan=\"8\" halign=\"left\">income16</th>\n",
              "    </tr>\n",
              "    <tr>\n",
              "      <th></th>\n",
              "      <th>count</th>\n",
              "      <th>mean</th>\n",
              "      <th>std</th>\n",
              "      <th>min</th>\n",
              "      <th>25%</th>\n",
              "      <th>50%</th>\n",
              "      <th>75%</th>\n",
              "      <th>max</th>\n",
              "    </tr>\n",
              "    <tr>\n",
              "      <th>sex</th>\n",
              "      <th></th>\n",
              "      <th></th>\n",
              "      <th></th>\n",
              "      <th></th>\n",
              "      <th></th>\n",
              "      <th></th>\n",
              "      <th></th>\n",
              "      <th></th>\n",
              "    </tr>\n",
              "  </thead>\n",
              "  <tbody>\n",
              "    <tr>\n",
              "      <th>female</th>\n",
              "      <td>2284.0</td>\n",
              "      <td>38148.314361</td>\n",
              "      <td>52247.377612</td>\n",
              "      <td>0.0</td>\n",
              "      <td>0.0</td>\n",
              "      <td>0.0</td>\n",
              "      <td>67500.0</td>\n",
              "      <td>170000.0</td>\n",
              "    </tr>\n",
              "    <tr>\n",
              "      <th>male</th>\n",
              "      <td>2323.0</td>\n",
              "      <td>47504.735256</td>\n",
              "      <td>60239.156311</td>\n",
              "      <td>0.0</td>\n",
              "      <td>0.0</td>\n",
              "      <td>11250.0</td>\n",
              "      <td>82500.0</td>\n",
              "      <td>170000.0</td>\n",
              "    </tr>\n",
              "  </tbody>\n",
              "</table>\n",
              "</div>"
            ],
            "text/plain": [
              "       income16                                                          \\\n",
              "          count          mean           std  min  25%      50%      75%   \n",
              "sex                                                                       \n",
              "female   2284.0  38148.314361  52247.377612  0.0  0.0      0.0  67500.0   \n",
              "male     2323.0  47504.735256  60239.156311  0.0  0.0  11250.0  82500.0   \n",
              "\n",
              "                  \n",
              "             max  \n",
              "sex               \n",
              "female  170000.0  \n",
              "male    170000.0  "
            ]
          },
          "execution_count": 47,
          "metadata": {},
          "output_type": "execute_result"
        }
      ],
      "source": [
        "df_constructionindus = df.loc[(df['indus10'] == \"Natural Resources, Construction, and Maintenance Occupations\")]\n",
        "df_constructionindus.loc[:,['sex','income16']].groupby('sex').describe()"
      ]
    },
    {
      "cell_type": "code",
      "execution_count": null,
      "id": "2fd61161",
      "metadata": {
        "id": "2fd61161",
        "outputId": "24fb6eb7-fed2-4a47-c077-77d81176cca5"
      },
      "outputs": [
        {
          "data": {
            "text/html": [
              "<div>\n",
              "<style scoped>\n",
              "    .dataframe tbody tr th:only-of-type {\n",
              "        vertical-align: middle;\n",
              "    }\n",
              "\n",
              "    .dataframe tbody tr th {\n",
              "        vertical-align: top;\n",
              "    }\n",
              "\n",
              "    .dataframe thead tr th {\n",
              "        text-align: left;\n",
              "    }\n",
              "\n",
              "    .dataframe thead tr:last-of-type th {\n",
              "        text-align: right;\n",
              "    }\n",
              "</style>\n",
              "<table border=\"1\" class=\"dataframe\">\n",
              "  <thead>\n",
              "    <tr>\n",
              "      <th></th>\n",
              "      <th colspan=\"8\" halign=\"left\">income16</th>\n",
              "    </tr>\n",
              "    <tr>\n",
              "      <th></th>\n",
              "      <th>count</th>\n",
              "      <th>mean</th>\n",
              "      <th>std</th>\n",
              "      <th>min</th>\n",
              "      <th>25%</th>\n",
              "      <th>50%</th>\n",
              "      <th>75%</th>\n",
              "      <th>max</th>\n",
              "    </tr>\n",
              "    <tr>\n",
              "      <th>sex</th>\n",
              "      <th></th>\n",
              "      <th></th>\n",
              "      <th></th>\n",
              "      <th></th>\n",
              "      <th></th>\n",
              "      <th></th>\n",
              "      <th></th>\n",
              "      <th></th>\n",
              "    </tr>\n",
              "  </thead>\n",
              "  <tbody>\n",
              "    <tr>\n",
              "      <th>female</th>\n",
              "      <td>1315.0</td>\n",
              "      <td>22742.205323</td>\n",
              "      <td>39173.898901</td>\n",
              "      <td>0.0</td>\n",
              "      <td>0.0</td>\n",
              "      <td>0.0</td>\n",
              "      <td>32500.0</td>\n",
              "      <td>170000.0</td>\n",
              "    </tr>\n",
              "    <tr>\n",
              "      <th>male</th>\n",
              "      <td>859.0</td>\n",
              "      <td>30393.189756</td>\n",
              "      <td>48016.683043</td>\n",
              "      <td>0.0</td>\n",
              "      <td>0.0</td>\n",
              "      <td>0.0</td>\n",
              "      <td>45000.0</td>\n",
              "      <td>170000.0</td>\n",
              "    </tr>\n",
              "  </tbody>\n",
              "</table>\n",
              "</div>"
            ],
            "text/plain": [
              "       income16                                                              \n",
              "          count          mean           std  min  25%  50%      75%       max\n",
              "sex                                                                          \n",
              "female   1315.0  22742.205323  39173.898901  0.0  0.0  0.0  32500.0  170000.0\n",
              "male      859.0  30393.189756  48016.683043  0.0  0.0  0.0  45000.0  170000.0"
            ]
          },
          "execution_count": 48,
          "metadata": {},
          "output_type": "execute_result"
        }
      ],
      "source": [
        "df_salesindus = df.loc[(df['indus10'] == \"Sales and Office Occupations\")]\n",
        "df_salesindus.loc[:,['sex','income16']].groupby('sex').describe()"
      ]
    },
    {
      "cell_type": "code",
      "execution_count": null,
      "id": "e7449a3f",
      "metadata": {
        "id": "e7449a3f",
        "outputId": "d7a77d40-9a98-48bd-8ad2-f59a34798588"
      },
      "outputs": [
        {
          "data": {
            "text/html": [
              "<div>\n",
              "<style scoped>\n",
              "    .dataframe tbody tr th:only-of-type {\n",
              "        vertical-align: middle;\n",
              "    }\n",
              "\n",
              "    .dataframe tbody tr th {\n",
              "        vertical-align: top;\n",
              "    }\n",
              "\n",
              "    .dataframe thead tr th {\n",
              "        text-align: left;\n",
              "    }\n",
              "\n",
              "    .dataframe thead tr:last-of-type th {\n",
              "        text-align: right;\n",
              "    }\n",
              "</style>\n",
              "<table border=\"1\" class=\"dataframe\">\n",
              "  <thead>\n",
              "    <tr>\n",
              "      <th></th>\n",
              "      <th colspan=\"8\" halign=\"left\">income16</th>\n",
              "    </tr>\n",
              "    <tr>\n",
              "      <th></th>\n",
              "      <th>count</th>\n",
              "      <th>mean</th>\n",
              "      <th>std</th>\n",
              "      <th>min</th>\n",
              "      <th>25%</th>\n",
              "      <th>50%</th>\n",
              "      <th>75%</th>\n",
              "      <th>max</th>\n",
              "    </tr>\n",
              "    <tr>\n",
              "      <th>sex</th>\n",
              "      <th></th>\n",
              "      <th></th>\n",
              "      <th></th>\n",
              "      <th></th>\n",
              "      <th></th>\n",
              "      <th></th>\n",
              "      <th></th>\n",
              "      <th></th>\n",
              "    </tr>\n",
              "  </thead>\n",
              "  <tbody>\n",
              "    <tr>\n",
              "      <th>female</th>\n",
              "      <td>1098.0</td>\n",
              "      <td>26023.224044</td>\n",
              "      <td>44425.011154</td>\n",
              "      <td>0.0</td>\n",
              "      <td>0.0</td>\n",
              "      <td>0.0</td>\n",
              "      <td>37500.0</td>\n",
              "      <td>170000.0</td>\n",
              "    </tr>\n",
              "    <tr>\n",
              "      <th>male</th>\n",
              "      <td>2858.0</td>\n",
              "      <td>29928.184045</td>\n",
              "      <td>46116.468579</td>\n",
              "      <td>0.0</td>\n",
              "      <td>0.0</td>\n",
              "      <td>0.0</td>\n",
              "      <td>55000.0</td>\n",
              "      <td>170000.0</td>\n",
              "    </tr>\n",
              "  </tbody>\n",
              "</table>\n",
              "</div>"
            ],
            "text/plain": [
              "       income16                                                              \n",
              "          count          mean           std  min  25%  50%      75%       max\n",
              "sex                                                                          \n",
              "female   1098.0  26023.224044  44425.011154  0.0  0.0  0.0  37500.0  170000.0\n",
              "male     2858.0  29928.184045  46116.468579  0.0  0.0  0.0  55000.0  170000.0"
            ]
          },
          "execution_count": 49,
          "metadata": {},
          "output_type": "execute_result"
        }
      ],
      "source": [
        "df_managementindus = df.loc[(df['indus10'] == \"Management, Business, Science, and Arts Occupations\")]\n",
        "df_managementindus.loc[:,['sex','income16']].groupby('sex').describe()"
      ]
    },
    {
      "cell_type": "code",
      "execution_count": null,
      "id": "e699d605",
      "metadata": {
        "scrolled": true,
        "id": "e699d605",
        "outputId": "19d5b8b5-0faa-49ee-a20c-968bd334f3c0"
      },
      "outputs": [
        {
          "data": {
            "text/html": [
              "<div>\n",
              "<style scoped>\n",
              "    .dataframe tbody tr th:only-of-type {\n",
              "        vertical-align: middle;\n",
              "    }\n",
              "\n",
              "    .dataframe tbody tr th {\n",
              "        vertical-align: top;\n",
              "    }\n",
              "\n",
              "    .dataframe thead tr th {\n",
              "        text-align: left;\n",
              "    }\n",
              "\n",
              "    .dataframe thead tr:last-of-type th {\n",
              "        text-align: right;\n",
              "    }\n",
              "</style>\n",
              "<table border=\"1\" class=\"dataframe\">\n",
              "  <thead>\n",
              "    <tr>\n",
              "      <th></th>\n",
              "      <th colspan=\"8\" halign=\"left\">income16</th>\n",
              "    </tr>\n",
              "    <tr>\n",
              "      <th></th>\n",
              "      <th>count</th>\n",
              "      <th>mean</th>\n",
              "      <th>std</th>\n",
              "      <th>min</th>\n",
              "      <th>25%</th>\n",
              "      <th>50%</th>\n",
              "      <th>75%</th>\n",
              "      <th>max</th>\n",
              "    </tr>\n",
              "    <tr>\n",
              "      <th>sex</th>\n",
              "      <th></th>\n",
              "      <th></th>\n",
              "      <th></th>\n",
              "      <th></th>\n",
              "      <th></th>\n",
              "      <th></th>\n",
              "      <th></th>\n",
              "      <th></th>\n",
              "    </tr>\n",
              "  </thead>\n",
              "  <tbody>\n",
              "    <tr>\n",
              "      <th>female</th>\n",
              "      <td>9.0</td>\n",
              "      <td>5000.000000</td>\n",
              "      <td>15000.000000</td>\n",
              "      <td>0.0</td>\n",
              "      <td>0.0</td>\n",
              "      <td>0.0</td>\n",
              "      <td>0.0</td>\n",
              "      <td>45000.0</td>\n",
              "    </tr>\n",
              "    <tr>\n",
              "      <th>male</th>\n",
              "      <td>38.0</td>\n",
              "      <td>8980.263158</td>\n",
              "      <td>27268.459008</td>\n",
              "      <td>0.0</td>\n",
              "      <td>0.0</td>\n",
              "      <td>0.0</td>\n",
              "      <td>0.0</td>\n",
              "      <td>120000.0</td>\n",
              "    </tr>\n",
              "  </tbody>\n",
              "</table>\n",
              "</div>"
            ],
            "text/plain": [
              "       income16                                                         \n",
              "          count         mean           std  min  25%  50%  75%       max\n",
              "sex                                                                     \n",
              "female      9.0  5000.000000  15000.000000  0.0  0.0  0.0  0.0   45000.0\n",
              "male       38.0  8980.263158  27268.459008  0.0  0.0  0.0  0.0  120000.0"
            ]
          },
          "execution_count": 50,
          "metadata": {},
          "output_type": "execute_result"
        }
      ],
      "source": [
        "df_militaryindus = df.loc[(df['indus10'] == \"Military Specific Occupations\")]\n",
        "df_militaryindus.loc[:,['sex','income16']].groupby('sex').describe()"
      ]
    },
    {
      "cell_type": "markdown",
      "id": "5c7a0bb4",
      "metadata": {
        "id": "5c7a0bb4"
      },
      "source": [
        "From these findings, we can see that the data reveals a disparity in earnings between men and women across various sectors. Notably, men are consistently paid more than women in every industry, underscoring a widespread issue of wage inequality. However, an exception is observed in the \"management, business, science, and arts occupations \" category, where this trend is inverted. This exception suggests that there could be a more equitable or possibly female-favored wage distribution."
      ]
    },
    {
      "cell_type": "markdown",
      "id": "c1744835",
      "metadata": {
        "id": "c1744835"
      },
      "source": [
        "# Conclusion\n",
        "\n",
        "This project aimed to analyze the factors that underpin the gender wage gap that much of society is familiar with, because by doing so it allows decision makers to target their interventions in the areas that actually matter. To accomplish this, variables around age, marital status, and education were chosen as factors that are often considered to be responsible for the disparity. The data for these was cleaned inorder to make analysis and visualizations more streamlined, with all changes being documented for future replication. Ultimately, a baseline difference of 19.8% was established, with subsequent analysis focusing on how that baseline related to more individualized comparisons. For age, the most notable finding was a difference of only 9% among our youngest comparison group, indicating that either progress has been made to shrink this gap or that wage disparities manifest later in life. This contrasted sharply with our findings in the very old category, demonstrating a difference of 60% that we hypothesized stemmed from women lacking many career options 70 years ago.\n",
        "\n",
        "Next the analysis centered on marital status, which demonstrated that generally those who identified as divorced or not married were found to have a smaller wage gap than those who were married or widowed. This is indicative of something about married life leading to women making less money, possibly having to shoulder more of the child rearing responsibilities at the detriment to career growth. Finally, the focus shifted onto the role of education and its impact. Through this we found that the gap was the highest for the lowest levels of education and generally decreased as the level of education increased up to the graduate level. These findings lend credence to the idea that education can serve as an equalizer across demographic groups.\n",
        "\n",
        "Despite what we consider to be extremely strong findings, we recognize that others will likely have criticism for various parts of the process. One area is undoubtedly the variables we included, as we did not consider the role of occupation, location, or the impact of children upon the wage gap. While these are all important factors, we ultimately decided to keep our analysis more focused as including all of those factors, with proper explanations, was outside of this project’s scope. Notably, we recognize that looking at the number of children would have shed more light onto the dynamics we hypothesized in the above section on marital status. There will also likely be criticism for focusing on a traditional, quantitative metric like income compared to the social well being indicators that have increased in popularity with time. While these SWB metrics are often touted as being more descriptive of someone’s true happiness, we regarded them as being both sufficient enough for an entirely separate study as well as being more non objective than the variables we were seeking.\n",
        "\n",
        "By no means should our work be considered all encompassing, as the above section indicates the numerous other aspects that all play into the wage gap. Future work should focus on creating more localized datasets and carrying out a similar analysis to this one. As more information about the gender wage gap becomes common knowledge, it would be useful to track what cities/regions are doing a better job of countering it. This might also shed light into the underlying dynamics of a localized wage gap. Say if a town supported heavy industry that women did not work in, but instead filled a different job or the cost of living was low enough that they did not have to work as much. Understanding all of these dynamics is important for understanding the true impact of wage disparities. Another path for future work should focus on subjective well being, something that was discussed earlier in this paper. Income is not always the ultimate metric of someone’s life, and there are times when people are completely satisfied with their current situations and lifestyle. This too is important, as highlighting a wage disparity that is actually favored by its respondents should not hold the same weight as a situation where women are actively seeking better wages."
      ]
    },
    {
      "cell_type": "code",
      "execution_count": null,
      "id": "465b8652",
      "metadata": {
        "id": "465b8652"
      },
      "outputs": [],
      "source": []
    }
  ],
  "metadata": {
    "kernelspec": {
      "display_name": "Python 3 (ipykernel)",
      "language": "python",
      "name": "python3"
    },
    "language_info": {
      "codemirror_mode": {
        "name": "ipython",
        "version": 3
      },
      "file_extension": ".py",
      "mimetype": "text/x-python",
      "name": "python",
      "nbconvert_exporter": "python",
      "pygments_lexer": "ipython3",
      "version": "3.9.12"
    },
    "colab": {
      "provenance": []
    }
  },
  "nbformat": 4,
  "nbformat_minor": 5
}